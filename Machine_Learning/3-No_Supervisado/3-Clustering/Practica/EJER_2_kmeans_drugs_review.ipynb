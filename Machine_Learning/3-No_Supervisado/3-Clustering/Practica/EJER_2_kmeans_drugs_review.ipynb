{
 "cells": [
  {
   "attachments": {},
   "cell_type": "markdown",
   "metadata": {},
   "source": [
    "### Importa los datos\n",
    "Dataset con diferentes fármacos, sus efectos y ratings de los clientes.\n",
    "\n",
    "Importa el dataset *drugLibTrain_raw.tsv*"
   ]
  },
  {
   "cell_type": "code",
   "execution_count": 2,
   "metadata": {},
   "outputs": [
    {
     "name": "stdout",
     "output_type": "stream",
     "text": [
      "Requirement already satisfied: matplotlib in /Users/hectormoya/Documents/GitHub/DS_PT_09_2023/.venv/lib/python3.11/site-packages (3.8.2)\n",
      "Requirement already satisfied: contourpy>=1.0.1 in /Users/hectormoya/Documents/GitHub/DS_PT_09_2023/.venv/lib/python3.11/site-packages (from matplotlib) (1.2.0)\n",
      "Requirement already satisfied: cycler>=0.10 in /Users/hectormoya/Documents/GitHub/DS_PT_09_2023/.venv/lib/python3.11/site-packages (from matplotlib) (0.12.1)\n",
      "Requirement already satisfied: fonttools>=4.22.0 in /Users/hectormoya/Documents/GitHub/DS_PT_09_2023/.venv/lib/python3.11/site-packages (from matplotlib) (4.48.1)\n",
      "Requirement already satisfied: kiwisolver>=1.3.1 in /Users/hectormoya/Documents/GitHub/DS_PT_09_2023/.venv/lib/python3.11/site-packages (from matplotlib) (1.4.5)\n",
      "Requirement already satisfied: numpy<2,>=1.21 in /Users/hectormoya/Documents/GitHub/DS_PT_09_2023/.venv/lib/python3.11/site-packages (from matplotlib) (1.26.4)\n",
      "Requirement already satisfied: packaging>=20.0 in /Users/hectormoya/Documents/GitHub/DS_PT_09_2023/.venv/lib/python3.11/site-packages (from matplotlib) (23.2)\n",
      "Requirement already satisfied: pillow>=8 in /Users/hectormoya/Documents/GitHub/DS_PT_09_2023/.venv/lib/python3.11/site-packages (from matplotlib) (10.2.0)\n",
      "Requirement already satisfied: pyparsing>=2.3.1 in /Users/hectormoya/Documents/GitHub/DS_PT_09_2023/.venv/lib/python3.11/site-packages (from matplotlib) (3.1.1)\n",
      "Requirement already satisfied: python-dateutil>=2.7 in /Users/hectormoya/Documents/GitHub/DS_PT_09_2023/.venv/lib/python3.11/site-packages (from matplotlib) (2.8.2)\n",
      "Requirement already satisfied: six>=1.5 in /Users/hectormoya/Documents/GitHub/DS_PT_09_2023/.venv/lib/python3.11/site-packages (from python-dateutil>=2.7->matplotlib) (1.16.0)\n"
     ]
    }
   ],
   "source": [
    "!pip install matplotlib\n"
   ]
  },
  {
   "cell_type": "code",
   "execution_count": 3,
   "metadata": {},
   "outputs": [],
   "source": [
    "import matplotlib.pyplot as plt"
   ]
  },
  {
   "cell_type": "code",
   "execution_count": 4,
   "metadata": {},
   "outputs": [
    {
     "name": "stdout",
     "output_type": "stream",
     "text": [
      "Requirement already satisfied: pandas in /Users/hectormoya/Documents/GitHub/DS_PT_09_2023/.venv/lib/python3.11/site-packages (2.2.0)\n",
      "Requirement already satisfied: numpy<2,>=1.23.2 in /Users/hectormoya/Documents/GitHub/DS_PT_09_2023/.venv/lib/python3.11/site-packages (from pandas) (1.26.4)\n",
      "Requirement already satisfied: python-dateutil>=2.8.2 in /Users/hectormoya/Documents/GitHub/DS_PT_09_2023/.venv/lib/python3.11/site-packages (from pandas) (2.8.2)\n",
      "Requirement already satisfied: pytz>=2020.1 in /Users/hectormoya/Documents/GitHub/DS_PT_09_2023/.venv/lib/python3.11/site-packages (from pandas) (2024.1)\n",
      "Requirement already satisfied: tzdata>=2022.7 in /Users/hectormoya/Documents/GitHub/DS_PT_09_2023/.venv/lib/python3.11/site-packages (from pandas) (2023.4)\n",
      "Requirement already satisfied: six>=1.5 in /Users/hectormoya/Documents/GitHub/DS_PT_09_2023/.venv/lib/python3.11/site-packages (from python-dateutil>=2.8.2->pandas) (1.16.0)\n",
      "Requirement already satisfied: scikit-learn in /Users/hectormoya/Documents/GitHub/DS_PT_09_2023/.venv/lib/python3.11/site-packages (1.4.0)\n",
      "Requirement already satisfied: numpy<2.0,>=1.19.5 in /Users/hectormoya/Documents/GitHub/DS_PT_09_2023/.venv/lib/python3.11/site-packages (from scikit-learn) (1.26.4)\n",
      "Requirement already satisfied: scipy>=1.6.0 in /Users/hectormoya/Documents/GitHub/DS_PT_09_2023/.venv/lib/python3.11/site-packages (from scikit-learn) (1.12.0)\n",
      "Requirement already satisfied: joblib>=1.2.0 in /Users/hectormoya/Documents/GitHub/DS_PT_09_2023/.venv/lib/python3.11/site-packages (from scikit-learn) (1.3.2)\n",
      "Requirement already satisfied: threadpoolctl>=2.0.0 in /Users/hectormoya/Documents/GitHub/DS_PT_09_2023/.venv/lib/python3.11/site-packages (from scikit-learn) (3.3.0)\n"
     ]
    }
   ],
   "source": [
    "!pip install pandas\n",
    "!pip install scikit-learn\n"
   ]
  },
  {
   "cell_type": "code",
   "execution_count": 5,
   "metadata": {},
   "outputs": [],
   "source": [
    "import pandas as pd\n",
    "from sklearn.cluster import KMeans\n",
    "import matplotlib.pyplot as plt\n"
   ]
  },
  {
   "cell_type": "code",
   "execution_count": 7,
   "metadata": {},
   "outputs": [
    {
     "name": "stdout",
     "output_type": "stream",
     "text": [
      "   Unnamed: 0       urlDrugName  rating         effectiveness  \\\n",
      "0        2202         enalapril       4      Highly Effective   \n",
      "1        3117  ortho-tri-cyclen       1      Highly Effective   \n",
      "2        1146           ponstel      10      Highly Effective   \n",
      "3        3947          prilosec       3  Marginally Effective   \n",
      "4        1951            lyrica       2  Marginally Effective   \n",
      "\n",
      "           sideEffects                               condition  \\\n",
      "0    Mild Side Effects  management of congestive heart failure   \n",
      "1  Severe Side Effects                        birth prevention   \n",
      "2      No Side Effects                        menstrual cramps   \n",
      "3    Mild Side Effects                             acid reflux   \n",
      "4  Severe Side Effects                            fibromyalgia   \n",
      "\n",
      "                                      benefitsReview  \\\n",
      "0  slowed the progression of left ventricular dys...   \n",
      "1  Although this type of birth control has more c...   \n",
      "2  I was used to having cramps so badly that they...   \n",
      "3  The acid reflux went away for a few months aft...   \n",
      "4  I think that the Lyrica was starting to help w...   \n",
      "\n",
      "                                   sideEffectsReview  \\\n",
      "0  cough, hypotension , proteinuria, impotence , ...   \n",
      "1  Heavy Cycle, Cramps, Hot Flashes, Fatigue, Lon...   \n",
      "2         Heavier bleeding and clotting than normal.   \n",
      "3  Constipation, dry mouth and some mild dizzines...   \n",
      "4  I felt extremely drugged and dopey.  Could not...   \n",
      "\n",
      "                                      commentsReview  \n",
      "0  monitor blood pressure , weight and asses for ...  \n",
      "1  I Hate This Birth Control, I Would Not Suggest...  \n",
      "2  I took 2 pills at the onset of my menstrual cr...  \n",
      "3  I was given Prilosec prescription at a dose of...  \n",
      "4                                          See above  \n"
     ]
    }
   ],
   "source": [
    "df = pd.read_csv('./data/drugLibTrain_raw.tsv', sep='\\t')\n",
    "\n",
    "print(df.head())\n"
   ]
  },
  {
   "attachments": {},
   "cell_type": "markdown",
   "metadata": {
    "colab_type": "text",
    "id": "OhaWDPt-8ZlT"
   },
   "source": [
    "### Descriptive Analysis"
   ]
  },
  {
   "attachments": {},
   "cell_type": "markdown",
   "metadata": {},
   "source": [
    "Quedate únicamente con las columnas que podamos manejar: Columnas numéricas y columnas categoricas con pocas categorias (menos de 10)"
   ]
  },
  {
   "cell_type": "code",
   "execution_count": 8,
   "metadata": {},
   "outputs": [
    {
     "data": {
      "text/plain": [
       "(Index(['Unnamed: 0', 'rating'], dtype='object'),\n",
       " Index(['effectiveness', 'sideEffects'], dtype='object'),\n",
       " effectiveness    5\n",
       " sideEffects      5\n",
       " dtype: int64)"
      ]
     },
     "execution_count": 8,
     "metadata": {},
     "output_type": "execute_result"
    }
   ],
   "source": [
    "# Identificamos las columnas numéricas y categóricas\n",
    "numeric_cols = df.select_dtypes(include=['int64', 'float64']).columns\n",
    "categorical_cols = df.select_dtypes(include=['object']).columns\n",
    "\n",
    "# Evaluamos las columnas categóricas para determinar el número de categorías únicas en cada una\n",
    "unique_categories = df[categorical_cols].nunique()\n",
    "\n",
    "# Filtramos las columnas categóricas para quedarnos solo con aquellas que tienen menos de 10 categorías únicas\n",
    "filtered_categorical_cols = unique_categories[unique_categories < 10].index\n",
    "\n",
    "# Mostramos los resultados\n",
    "numeric_cols, filtered_categorical_cols, unique_categories[filtered_categorical_cols]\n"
   ]
  },
  {
   "attachments": {},
   "cell_type": "markdown",
   "metadata": {},
   "source": [
    "#### Transforma las columnas categoricas\n",
    "\n",
    "Transforma las columnas categoricas a numericas mediante dummies"
   ]
  },
  {
   "cell_type": "code",
   "execution_count": 9,
   "metadata": {},
   "outputs": [
    {
     "data": {
      "text/html": [
       "<div>\n",
       "<style scoped>\n",
       "    .dataframe tbody tr th:only-of-type {\n",
       "        vertical-align: middle;\n",
       "    }\n",
       "\n",
       "    .dataframe tbody tr th {\n",
       "        vertical-align: top;\n",
       "    }\n",
       "\n",
       "    .dataframe thead th {\n",
       "        text-align: right;\n",
       "    }\n",
       "</style>\n",
       "<table border=\"1\" class=\"dataframe\">\n",
       "  <thead>\n",
       "    <tr style=\"text-align: right;\">\n",
       "      <th></th>\n",
       "      <th>effectiveness</th>\n",
       "      <th>effectiveness_numeric</th>\n",
       "      <th>sideEffects</th>\n",
       "      <th>sideEffects_numeric</th>\n",
       "    </tr>\n",
       "  </thead>\n",
       "  <tbody>\n",
       "    <tr>\n",
       "      <th>0</th>\n",
       "      <td>Highly Effective</td>\n",
       "      <td>4</td>\n",
       "      <td>Mild Side Effects</td>\n",
       "      <td>1</td>\n",
       "    </tr>\n",
       "    <tr>\n",
       "      <th>1</th>\n",
       "      <td>Highly Effective</td>\n",
       "      <td>4</td>\n",
       "      <td>Severe Side Effects</td>\n",
       "      <td>3</td>\n",
       "    </tr>\n",
       "    <tr>\n",
       "      <th>2</th>\n",
       "      <td>Highly Effective</td>\n",
       "      <td>4</td>\n",
       "      <td>No Side Effects</td>\n",
       "      <td>0</td>\n",
       "    </tr>\n",
       "    <tr>\n",
       "      <th>3</th>\n",
       "      <td>Marginally Effective</td>\n",
       "      <td>1</td>\n",
       "      <td>Mild Side Effects</td>\n",
       "      <td>1</td>\n",
       "    </tr>\n",
       "    <tr>\n",
       "      <th>4</th>\n",
       "      <td>Marginally Effective</td>\n",
       "      <td>1</td>\n",
       "      <td>Severe Side Effects</td>\n",
       "      <td>3</td>\n",
       "    </tr>\n",
       "  </tbody>\n",
       "</table>\n",
       "</div>"
      ],
      "text/plain": [
       "          effectiveness  effectiveness_numeric          sideEffects  \\\n",
       "0      Highly Effective                      4    Mild Side Effects   \n",
       "1      Highly Effective                      4  Severe Side Effects   \n",
       "2      Highly Effective                      4      No Side Effects   \n",
       "3  Marginally Effective                      1    Mild Side Effects   \n",
       "4  Marginally Effective                      1  Severe Side Effects   \n",
       "\n",
       "   sideEffects_numeric  \n",
       "0                    1  \n",
       "1                    3  \n",
       "2                    0  \n",
       "3                    1  \n",
       "4                    3  "
      ]
     },
     "execution_count": 9,
     "metadata": {},
     "output_type": "execute_result"
    }
   ],
   "source": [
    "# Definimos los diccionarios para la transformación de las columnas categóricas 'effectiveness' y 'sideEffects'\n",
    "effectiveness_dict = {\"Ineffective\": 0,\n",
    "                      \"Marginally Effective\": 1,\n",
    "                      \"Moderately Effective\": 2,\n",
    "                      \"Considerably Effective\": 3,\n",
    "                      \"Highly Effective\": 4}\n",
    "\n",
    "side_effects_dict = {\"No Side Effects\": 0,\n",
    "                     \"Mild Side Effects\": 1,\n",
    "                     \"Moderate Side Effects\": 2,\n",
    "                     \"Severe Side Effects\": 3,\n",
    "                     \"Extremely Severe Side Effects\": 4}\n",
    "\n",
    "# Aplicamos los diccionarios para transformar las columnas categóricas a numéricas\n",
    "df['effectiveness_numeric'] = df['effectiveness'].map(effectiveness_dict)\n",
    "df['sideEffects_numeric'] = df['sideEffects'].map(side_effects_dict)\n",
    "\n",
    "# Verificamos la transformación con las nuevas columnas numéricas\n",
    "df[['effectiveness', 'effectiveness_numeric', 'sideEffects', 'sideEffects_numeric']].head()\n"
   ]
  },
  {
   "cell_type": "code",
   "execution_count": 12,
   "metadata": {},
   "outputs": [],
   "source": [
    "my_dict = {\"Ineffective\":0,\n",
    "            \"Marginally Effective\":1,\n",
    "            \"Moderately Effective\":2,\n",
    "            \"Considerably Effective\":3,\n",
    "            \"Highly Effective\":4}"
   ]
  },
  {
   "cell_type": "code",
   "execution_count": 17,
   "metadata": {},
   "outputs": [],
   "source": [
    "my_dict = {\"No Side Effects\":0,\n",
    "            \"Mild Side Effects\":1,\n",
    "            \"Moderate Side Effects\":2,\n",
    "            \"Severe Side Effects\":3,\n",
    "            \"Extremely Severe Side Effects\":4}"
   ]
  },
  {
   "attachments": {},
   "cell_type": "markdown",
   "metadata": {
    "colab_type": "text",
    "id": "HtBmwGdNnUGf"
   },
   "source": [
    "#### Evalua cual es la mejor K\n",
    "\n",
    "Utiliza silhouette_score para evaluar cual es la mejor K. Evalua como mucho K = 20"
   ]
  },
  {
   "attachments": {},
   "cell_type": "markdown",
   "metadata": {},
   "source": [
    "#### Genera el K Means "
   ]
  },
  {
   "cell_type": "code",
   "execution_count": 10,
   "metadata": {},
   "outputs": [],
   "source": [
    "from sklearn.metrics import silhouette_score\n",
    "from sklearn.cluster import KMeans"
   ]
  },
  {
   "cell_type": "code",
   "execution_count": 11,
   "metadata": {},
   "outputs": [],
   "source": [
    "df['effectiveness_numeric'] = df['effectiveness'].map({\"Ineffective\": 0, \"Marginally Effective\": 1, \"Moderately Effective\": 2, \"Considerably Effective\": 3, \"Highly Effective\": 4})\n",
    "df['sideEffects_numeric'] = df['sideEffects'].map({\"No Side Effects\": 0, \"Mild Side Effects\": 1, \"Moderate Side Effects\": 2, \"Severe Side Effects\": 3, \"Extremely Severe Side Effects\": 4})\n",
    "\n",
    "# Selecciona las columnas para el análisis\n",
    "X = df[['rating', 'effectiveness_numeric', 'sideEffects_numeric']]"
   ]
  },
  {
   "attachments": {},
   "cell_type": "markdown",
   "metadata": {},
   "source": [
    "Mayor silhouette scores con K=2"
   ]
  },
  {
   "cell_type": "code",
   "execution_count": 15,
   "metadata": {},
   "outputs": [
    {
     "name": "stdout",
     "output_type": "stream",
     "text": [
      "Si K = 2, score: 0.6190969508782411\n",
      "Si K = 3, score: 0.4541665291694327\n",
      "Si K = 4, score: 0.4174308457120984\n",
      "Si K = 5, score: 0.40251749671242926\n",
      "Si K = 6, score: 0.40776675491666886\n",
      "Si K = 7, score: 0.36905083756127866\n",
      "Si K = 8, score: 0.3887036746255966\n",
      "Si K = 9, score: 0.4139468434587661\n",
      "Si K = 10, score: 0.4140756969294152\n",
      "Si K = 11, score: 0.4113585237343824\n",
      "Si K = 12, score: 0.4330879478500931\n",
      "Si K = 13, score: 0.4480935310335395\n",
      "Si K = 14, score: 0.45681771570543733\n",
      "Si K = 15, score: 0.45541882505953524\n",
      "Si K = 16, score: 0.4553688149401538\n",
      "Si K = 17, score: 0.45265363970485795\n",
      "Si K = 18, score: 0.4587477111014458\n",
      "Si K = 19, score: 0.45908299832568217\n",
      "Si K = 20, score: 0.46525158235955\n",
      "El mejor K es 2 con score de 0.6190969508782411.\n"
     ]
    }
   ],
   "source": [
    "# Rango de K para probar\n",
    "k_range = range(2, 21)\n",
    "\n",
    "# Almacena los scores de silhouette\n",
    "silhouette_scores = []\n",
    "\n",
    "for k in k_range:\n",
    "    kmeans = KMeans(n_clusters=k, random_state=42)\n",
    "    kmeans.fit(X)\n",
    "    labels = kmeans.labels_\n",
    "    silhouette_avg = silhouette_score(X, labels)\n",
    "    silhouette_scores.append(silhouette_avg)\n",
    "    print(f\"Si K = {k}, score: {silhouette_avg}\")\n",
    "\n",
    "# Encuentra el K con el mayor silhouette score\n",
    "best_k = k_range[silhouette_scores.index(max(silhouette_scores))]\n",
    "best_score = max(silhouette_scores)\n",
    "\n",
    "print(f\"El mejor K es {best_k} con score de {best_score}.\")\n"
   ]
  },
  {
   "attachments": {},
   "cell_type": "markdown",
   "metadata": {},
   "source": [
    "Con el Elbow method comprobamos que k=2 sería la opción más adecuada"
   ]
  },
  {
   "cell_type": "code",
   "execution_count": 16,
   "metadata": {},
   "outputs": [
    {
     "data": {
      "image/png": "[encoded data removed]",
      "text/plain": [
       "<Figure size 1000x600 with 1 Axes>"
      ]
     },
     "metadata": {},
     "output_type": "display_data"
    }
   ],
   "source": [
    "# Rango de K a probar\n",
    "k_range = range(2, 21)\n",
    "\n",
    "# Lista para almacenar las inercias\n",
    "inertias = []\n",
    "\n",
    "for k in k_range:\n",
    "    kmeans = KMeans(n_clusters=k, random_state=42)\n",
    "    kmeans.fit(X)\n",
    "    inertias.append(kmeans.inertia_)\n",
    "\n",
    "# Graficar el método Elbow\n",
    "plt.figure(figsize=(10, 6))\n",
    "plt.plot(k_range, inertias, 'bo-', markerfacecolor='red')\n",
    "plt.title('Método Elbow para Determinar el Valor Óptimo de K')\n",
    "plt.xlabel('Número de Clusters K')\n",
    "plt.ylabel('Inercia')\n",
    "plt.xticks(k_range)\n",
    "plt.grid(True)\n",
    "plt.show()\n"
   ]
  },
  {
   "attachments": {},
   "cell_type": "markdown",
   "metadata": {},
   "source": [
    "#### Muestra en un gráfico de tartas la distribución de los distintos clusters"
   ]
  },
  {
   "cell_type": "code",
   "execution_count": 14,
   "metadata": {},
   "outputs": [
    {
     "data": {
      "image/png": "[encoded data removed]",
      "text/plain": [
       "<Figure size 800x600 with 1 Axes>"
      ]
     },
     "metadata": {},
     "output_type": "display_data"
    }
   ],
   "source": [
    "\n",
    "# Asumiendo que X ya está definido y preparado para el clustering\n",
    "kmeans = KMeans(n_clusters=2, random_state=42)\n",
    "kmeans.fit(X)\n",
    "\n",
    "# Añade las etiquetas de los clusters al DataFrame\n",
    "df['Cluster'] = kmeans.labels_\n",
    "\n",
    "# Calcula la distribución de los clusters\n",
    "cluster_distribution = df['Cluster'].value_counts(normalize=True) * 100\n",
    "\n",
    "# Grafica la distribución de los clusters en un gráfico de tartas\n",
    "plt.figure(figsize=(8, 6))\n",
    "plt.pie(cluster_distribution, labels=cluster_distribution.index, autopct='%1.1f%%', startangle=140, colors=['skyblue', 'lightgreen'])\n",
    "plt.title('Distribución de los Clusters')\n",
    "plt.show()\n"
   ]
  },
  {
   "cell_type": "code",
   "execution_count": 49,
   "metadata": {},
   "outputs": [
    {
     "data": {
      "text/plain": [
       "<AxesSubplot:ylabel='Cluster'>"
      ]
     },
     "execution_count": 49,
     "metadata": {},
     "output_type": "execute_result"
    },
    {
     "data": {
      "image/png": "[encoded data removed]",
      "text/plain": [
       "<Figure size 432x288 with 1 Axes>"
      ]
     },
     "metadata": {},
     "output_type": "display_data"
    }
   ],
   "source": [
    "df_clusters['Cluster'].value_counts().plot.pie(autopct=\"%.1f%%\")"
   ]
  }
 ],
 "metadata": {
  "colab": {
   "collapsed_sections": [],
   "name": "kmeans-user-clustering.ipynb",
   "provenance": []
  },
  "kernelspec": {
   "display_name": "Python 3",
   "language": "python",
   "name": "python3"
  },
  "language_info": {
   "codemirror_mode": {
    "name": "ipython",
    "version": 3
   },
   "file_extension": ".py",
   "mimetype": "text/x-python",
   "name": "python",
   "nbconvert_exporter": "python",
   "pygments_lexer": "ipython3",
   "version": "3.11.5"
  },
  "nbTranslate": {
   "displayLangs": [
    "*"
   ],
   "hotkey": "alt-t",
   "langInMainMenu": true,
   "sourceLang": "en",
   "targetLang": "fr",
   "useGoogleTranslate": true
  },
  "varInspector": {
   "cols": {
    "lenName": 16,
    "lenType": 16,
    "lenVar": 40
   },
   "kernels_config": {
    "python": {
     "delete_cmd_postfix": "",
     "delete_cmd_prefix": "del ",
     "library": "var_list.py",
     "varRefreshCmd": "print(var_dic_list())"
    },
    "r": {
     "delete_cmd_postfix": ") ",
     "delete_cmd_prefix": "rm(",
     "library": "var_list.r",
     "varRefreshCmd": "cat(var_dic_list()) "
    }
   },
   "types_to_exclude": [
    "module",
    "function",
    "builtin_function_or_method",
    "instance",
    "_Feature"
   ],
   "window_display": false
  }
 },
 "nbformat": 4,
 "nbformat_minor": 4
}
