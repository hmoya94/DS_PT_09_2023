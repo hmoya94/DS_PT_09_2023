{
  "cells": [
    {
      "cell_type": "markdown",
      "metadata": {
        "id": "dM0AU5JmpZa3"
      },
      "source": [
        "# Textacy & Spacy\n",
        "Librerias de procesado de NLP"
      ]
    },
    {
      "cell_type": "code",
      "execution_count": 1,
      "metadata": {},
      "outputs": [
        {
          "name": "stdout",
          "output_type": "stream",
          "text": [
            "Collecting spacy\n",
            "  Downloading spacy-3.7.4-cp311-cp311-macosx_10_9_x86_64.whl.metadata (27 kB)\n",
            "Collecting spacy-legacy<3.1.0,>=3.0.11 (from spacy)\n",
            "  Downloading spacy_legacy-3.0.12-py2.py3-none-any.whl.metadata (2.8 kB)\n",
            "Collecting spacy-loggers<2.0.0,>=1.0.0 (from spacy)\n",
            "  Downloading spacy_loggers-1.0.5-py3-none-any.whl.metadata (23 kB)\n",
            "Collecting murmurhash<1.1.0,>=0.28.0 (from spacy)\n",
            "  Downloading murmurhash-1.0.10-cp311-cp311-macosx_10_9_x86_64.whl.metadata (2.0 kB)\n",
            "Collecting cymem<2.1.0,>=2.0.2 (from spacy)\n",
            "  Downloading cymem-2.0.8-cp311-cp311-macosx_10_9_x86_64.whl.metadata (8.4 kB)\n",
            "Collecting preshed<3.1.0,>=3.0.2 (from spacy)\n",
            "  Downloading preshed-3.0.9-cp311-cp311-macosx_10_9_x86_64.whl.metadata (2.2 kB)\n",
            "Collecting thinc<8.3.0,>=8.2.2 (from spacy)\n",
            "  Downloading thinc-8.2.3-cp311-cp311-macosx_10_9_x86_64.whl.metadata (15 kB)\n",
            "Collecting wasabi<1.2.0,>=0.9.1 (from spacy)\n",
            "  Downloading wasabi-1.1.2-py3-none-any.whl.metadata (28 kB)\n",
            "Collecting srsly<3.0.0,>=2.4.3 (from spacy)\n",
            "  Downloading srsly-2.4.8-cp311-cp311-macosx_10_9_x86_64.whl.metadata (20 kB)\n",
            "Collecting catalogue<2.1.0,>=2.0.6 (from spacy)\n",
            "  Downloading catalogue-2.0.10-py3-none-any.whl.metadata (14 kB)\n",
            "Collecting weasel<0.4.0,>=0.1.0 (from spacy)\n",
            "  Downloading weasel-0.3.4-py3-none-any.whl.metadata (4.7 kB)\n",
            "Collecting typer<0.10.0,>=0.3.0 (from spacy)\n",
            "  Downloading typer-0.9.0-py3-none-any.whl.metadata (14 kB)\n",
            "Collecting smart-open<7.0.0,>=5.2.1 (from spacy)\n",
            "  Downloading smart_open-6.4.0-py3-none-any.whl.metadata (21 kB)\n",
            "Requirement already satisfied: tqdm<5.0.0,>=4.38.0 in /Users/hectormoya/Documents/GitHub/DS_PT_09_2023/.venv/lib/python3.11/site-packages (from spacy) (4.66.2)\n",
            "Requirement already satisfied: requests<3.0.0,>=2.13.0 in /Users/hectormoya/Documents/GitHub/DS_PT_09_2023/.venv/lib/python3.11/site-packages (from spacy) (2.31.0)\n",
            "Collecting pydantic!=1.8,!=1.8.1,<3.0.0,>=1.7.4 (from spacy)\n",
            "  Downloading pydantic-2.6.3-py3-none-any.whl.metadata (84 kB)\n",
            "\u001b[2K     \u001b[90m━━━━━━━━━━━━━━━━━━━━━━━━━━━━━━━━━━━━━━━━\u001b[0m \u001b[32m84.4/84.4 kB\u001b[0m \u001b[31m1.9 MB/s\u001b[0m eta \u001b[36m0:00:00\u001b[0ma \u001b[36m0:00:01\u001b[0m\n",
            "\u001b[?25hCollecting jinja2 (from spacy)\n",
            "  Using cached Jinja2-3.1.3-py3-none-any.whl.metadata (3.3 kB)\n",
            "Requirement already satisfied: setuptools in /Users/hectormoya/Documents/GitHub/DS_PT_09_2023/.venv/lib/python3.11/site-packages (from spacy) (65.5.0)\n",
            "Requirement already satisfied: packaging>=20.0 in /Users/hectormoya/Documents/GitHub/DS_PT_09_2023/.venv/lib/python3.11/site-packages (from spacy) (23.2)\n",
            "Collecting langcodes<4.0.0,>=3.2.0 (from spacy)\n",
            "  Downloading langcodes-3.3.0-py3-none-any.whl.metadata (29 kB)\n",
            "Requirement already satisfied: numpy>=1.19.0 in /Users/hectormoya/Documents/GitHub/DS_PT_09_2023/.venv/lib/python3.11/site-packages (from spacy) (1.26.4)\n",
            "Collecting annotated-types>=0.4.0 (from pydantic!=1.8,!=1.8.1,<3.0.0,>=1.7.4->spacy)\n",
            "  Downloading annotated_types-0.6.0-py3-none-any.whl.metadata (12 kB)\n",
            "Collecting pydantic-core==2.16.3 (from pydantic!=1.8,!=1.8.1,<3.0.0,>=1.7.4->spacy)\n",
            "  Downloading pydantic_core-2.16.3-cp311-cp311-macosx_10_12_x86_64.whl.metadata (6.5 kB)\n",
            "Requirement already satisfied: typing-extensions>=4.6.1 in /Users/hectormoya/Documents/GitHub/DS_PT_09_2023/.venv/lib/python3.11/site-packages (from pydantic!=1.8,!=1.8.1,<3.0.0,>=1.7.4->spacy) (4.9.0)\n",
            "Requirement already satisfied: charset-normalizer<4,>=2 in /Users/hectormoya/Documents/GitHub/DS_PT_09_2023/.venv/lib/python3.11/site-packages (from requests<3.0.0,>=2.13.0->spacy) (3.3.2)\n",
            "Requirement already satisfied: idna<4,>=2.5 in /Users/hectormoya/Documents/GitHub/DS_PT_09_2023/.venv/lib/python3.11/site-packages (from requests<3.0.0,>=2.13.0->spacy) (3.6)\n",
            "Requirement already satisfied: urllib3<3,>=1.21.1 in /Users/hectormoya/Documents/GitHub/DS_PT_09_2023/.venv/lib/python3.11/site-packages (from requests<3.0.0,>=2.13.0->spacy) (2.2.0)\n",
            "Requirement already satisfied: certifi>=2017.4.17 in /Users/hectormoya/Documents/GitHub/DS_PT_09_2023/.venv/lib/python3.11/site-packages (from requests<3.0.0,>=2.13.0->spacy) (2024.2.2)\n",
            "Collecting blis<0.8.0,>=0.7.8 (from thinc<8.3.0,>=8.2.2->spacy)\n",
            "  Downloading blis-0.7.11-cp311-cp311-macosx_10_9_x86_64.whl.metadata (7.4 kB)\n",
            "Collecting confection<1.0.0,>=0.0.1 (from thinc<8.3.0,>=8.2.2->spacy)\n",
            "  Downloading confection-0.1.4-py3-none-any.whl.metadata (19 kB)\n",
            "Requirement already satisfied: click<9.0.0,>=7.1.1 in /Users/hectormoya/Documents/GitHub/DS_PT_09_2023/.venv/lib/python3.11/site-packages (from typer<0.10.0,>=0.3.0->spacy) (8.1.7)\n",
            "Collecting cloudpathlib<0.17.0,>=0.7.0 (from weasel<0.4.0,>=0.1.0->spacy)\n",
            "  Downloading cloudpathlib-0.16.0-py3-none-any.whl.metadata (14 kB)\n",
            "Requirement already satisfied: MarkupSafe>=2.0 in /Users/hectormoya/Documents/GitHub/DS_PT_09_2023/.venv/lib/python3.11/site-packages (from jinja2->spacy) (2.1.5)\n",
            "Downloading spacy-3.7.4-cp311-cp311-macosx_10_9_x86_64.whl (6.7 MB)\n",
            "\u001b[2K   \u001b[90m━━━━━━━━━━━━━━━━━━━━━━━━━━━━━━━━━━━━━━━━\u001b[0m \u001b[32m6.7/6.7 MB\u001b[0m \u001b[31m21.0 MB/s\u001b[0m eta \u001b[36m0:00:00\u001b[0m00:01\u001b[0m00:01\u001b[0m\n",
            "\u001b[?25hDownloading catalogue-2.0.10-py3-none-any.whl (17 kB)\n",
            "Downloading cymem-2.0.8-cp311-cp311-macosx_10_9_x86_64.whl (41 kB)\n",
            "\u001b[2K   \u001b[90m━━━━━━━━━━━━━━━━━━━━━━━━━━━━━━━━━━━━━━━━\u001b[0m \u001b[32m41.9/41.9 kB\u001b[0m \u001b[31m1.3 MB/s\u001b[0m eta \u001b[36m0:00:00\u001b[0m\n",
            "\u001b[?25hDownloading langcodes-3.3.0-py3-none-any.whl (181 kB)\n",
            "\u001b[2K   \u001b[90m━━━━━━━━━━━━━━━━━━━━━━━━━━━━━━━━━━━━━━━━\u001b[0m \u001b[32m181.6/181.6 kB\u001b[0m \u001b[31m5.3 MB/s\u001b[0m eta \u001b[36m0:00:00\u001b[0m\n",
            "\u001b[?25hDownloading murmurhash-1.0.10-cp311-cp311-macosx_10_9_x86_64.whl (26 kB)\n",
            "Downloading preshed-3.0.9-cp311-cp311-macosx_10_9_x86_64.whl (132 kB)\n",
            "\u001b[2K   \u001b[90m━━━━━━━━━━━━━━━━━━━━━━━━━━━━━━━━━━━━━━━━\u001b[0m \u001b[32m133.0/133.0 kB\u001b[0m \u001b[31m4.5 MB/s\u001b[0m eta \u001b[36m0:00:00\u001b[0m\n",
            "\u001b[?25hDownloading pydantic-2.6.3-py3-none-any.whl (395 kB)\n",
            "\u001b[2K   \u001b[90m━━━━━━━━━━━━━━━━━━━━━━━━━━━━━━━━━━━━━━━━\u001b[0m \u001b[32m395.2/395.2 kB\u001b[0m \u001b[31m10.7 MB/s\u001b[0m eta \u001b[36m0:00:00\u001b[0m\n",
            "\u001b[?25hDownloading pydantic_core-2.16.3-cp311-cp311-macosx_10_12_x86_64.whl (1.9 MB)\n",
            "\u001b[2K   \u001b[90m━━━━━━━━━━━━━━━━━━━━━━━━━━━━━━━━━━━━━━━━\u001b[0m \u001b[32m1.9/1.9 MB\u001b[0m \u001b[31m19.6 MB/s\u001b[0m eta \u001b[36m0:00:00\u001b[0m00:01\u001b[0m00:01\u001b[0m\n",
            "\u001b[?25hDownloading smart_open-6.4.0-py3-none-any.whl (57 kB)\n",
            "\u001b[2K   \u001b[90m━━━━━━━━━━━━━━━━━━━━━━━━━━━━━━━━━━━━━━━━\u001b[0m \u001b[32m57.0/57.0 kB\u001b[0m \u001b[31m1.7 MB/s\u001b[0m eta \u001b[36m0:00:00\u001b[0m\n",
            "\u001b[?25hDownloading spacy_legacy-3.0.12-py2.py3-none-any.whl (29 kB)\n",
            "Downloading spacy_loggers-1.0.5-py3-none-any.whl (22 kB)\n",
            "Downloading srsly-2.4.8-cp311-cp311-macosx_10_9_x86_64.whl (490 kB)\n",
            "\u001b[2K   \u001b[90m━━━━━━━━━━━━━━━━━━━━━━━━━━━━━━━━━━━━━━━━\u001b[0m \u001b[32m490.0/490.0 kB\u001b[0m \u001b[31m6.9 MB/s\u001b[0m eta \u001b[36m0:00:00\u001b[0m:00:01\u001b[0m\n",
            "\u001b[?25hDownloading thinc-8.2.3-cp311-cp311-macosx_10_9_x86_64.whl (863 kB)\n",
            "\u001b[2K   \u001b[90m━━━━━━━━━━━━━━━━━━━━━━━━━━━━━━━━━━━━━━━━\u001b[0m \u001b[32m863.7/863.7 kB\u001b[0m \u001b[31m15.0 MB/s\u001b[0m eta \u001b[36m0:00:00\u001b[0m00:01\u001b[0m\n",
            "\u001b[?25hDownloading typer-0.9.0-py3-none-any.whl (45 kB)\n",
            "\u001b[2K   \u001b[90m━━━━━━━━━━━━━━━━━━━━━━━━━━━━━━━━━━━━━━━━\u001b[0m \u001b[32m45.9/45.9 kB\u001b[0m \u001b[31m1.3 MB/s\u001b[0m eta \u001b[36m0:00:00\u001b[0m\n",
            "\u001b[?25hDownloading wasabi-1.1.2-py3-none-any.whl (27 kB)\n",
            "Downloading weasel-0.3.4-py3-none-any.whl (50 kB)\n",
            "\u001b[2K   \u001b[90m━━━━━━━━━━━━━━━━━━━━━━━━━━━━━━━━━━━━━━━━\u001b[0m \u001b[32m50.1/50.1 kB\u001b[0m \u001b[31m1.6 MB/s\u001b[0m eta \u001b[36m0:00:00\u001b[0m\n",
            "\u001b[?25hUsing cached Jinja2-3.1.3-py3-none-any.whl (133 kB)\n",
            "Downloading annotated_types-0.6.0-py3-none-any.whl (12 kB)\n",
            "Downloading blis-0.7.11-cp311-cp311-macosx_10_9_x86_64.whl (6.1 MB)\n",
            "\u001b[2K   \u001b[90m━━━━━━━━━━━━━━━━━━━━━━━━━━━━━━━━━━━━━━━━\u001b[0m \u001b[32m6.1/6.1 MB\u001b[0m \u001b[31m23.2 MB/s\u001b[0m eta \u001b[36m0:00:00\u001b[0m00:01\u001b[0m00:01\u001b[0m\n",
            "\u001b[?25hDownloading cloudpathlib-0.16.0-py3-none-any.whl (45 kB)\n",
            "\u001b[2K   \u001b[90m━━━━━━━━━━━━━━━━━━━━━━━━━━━━━━━━━━━━━━━━\u001b[0m \u001b[32m45.0/45.0 kB\u001b[0m \u001b[31m1.2 MB/s\u001b[0m eta \u001b[36m0:00:00\u001b[0m\n",
            "\u001b[?25hDownloading confection-0.1.4-py3-none-any.whl (35 kB)\n",
            "Installing collected packages: cymem, wasabi, typer, spacy-loggers, spacy-legacy, smart-open, pydantic-core, murmurhash, langcodes, jinja2, cloudpathlib, catalogue, blis, annotated-types, srsly, pydantic, preshed, confection, weasel, thinc, spacy\n",
            "Successfully installed annotated-types-0.6.0 blis-0.7.11 catalogue-2.0.10 cloudpathlib-0.16.0 confection-0.1.4 cymem-2.0.8 jinja2-3.1.3 langcodes-3.3.0 murmurhash-1.0.10 preshed-3.0.9 pydantic-2.6.3 pydantic-core-2.16.3 smart-open-6.4.0 spacy-3.7.4 spacy-legacy-3.0.12 spacy-loggers-1.0.5 srsly-2.4.8 thinc-8.2.3 typer-0.9.0 wasabi-1.1.2 weasel-0.3.4\n",
            "Collecting textacy\n",
            "  Downloading textacy-0.13.0-py3-none-any.whl.metadata (5.3 kB)\n",
            "Requirement already satisfied: cachetools>=4.0.0 in /Users/hectormoya/Documents/GitHub/DS_PT_09_2023/.venv/lib/python3.11/site-packages (from textacy) (5.3.2)\n",
            "Requirement already satisfied: catalogue~=2.0 in /Users/hectormoya/Documents/GitHub/DS_PT_09_2023/.venv/lib/python3.11/site-packages (from textacy) (2.0.10)\n",
            "Collecting cytoolz>=0.10.1 (from textacy)\n",
            "  Downloading cytoolz-0.12.3-cp311-cp311-macosx_10_9_x86_64.whl.metadata (4.6 kB)\n",
            "Collecting floret~=0.10.0 (from textacy)\n",
            "  Downloading floret-0.10.5-cp311-cp311-macosx_11_0_x86_64.whl.metadata (3.1 kB)\n",
            "Collecting jellyfish>=0.8.0 (from textacy)\n",
            "  Downloading jellyfish-1.0.3-cp311-cp311-macosx_10_7_x86_64.whl.metadata (2.5 kB)\n",
            "Requirement already satisfied: joblib>=0.13.0 in /Users/hectormoya/Documents/GitHub/DS_PT_09_2023/.venv/lib/python3.11/site-packages (from textacy) (1.3.2)\n",
            "Requirement already satisfied: networkx>=2.7 in /Users/hectormoya/Documents/GitHub/DS_PT_09_2023/.venv/lib/python3.11/site-packages (from textacy) (3.2.1)\n",
            "Requirement already satisfied: numpy>=1.17.0 in /Users/hectormoya/Documents/GitHub/DS_PT_09_2023/.venv/lib/python3.11/site-packages (from textacy) (1.26.4)\n",
            "Collecting pyphen>=0.10.0 (from textacy)\n",
            "  Downloading pyphen-0.14.0-py3-none-any.whl.metadata (3.3 kB)\n",
            "Requirement already satisfied: requests>=2.10.0 in /Users/hectormoya/Documents/GitHub/DS_PT_09_2023/.venv/lib/python3.11/site-packages (from textacy) (2.31.0)\n",
            "Requirement already satisfied: scipy>=1.8.0 in /Users/hectormoya/Documents/GitHub/DS_PT_09_2023/.venv/lib/python3.11/site-packages (from textacy) (1.12.0)\n",
            "Requirement already satisfied: scikit-learn>=1.0 in /Users/hectormoya/Documents/GitHub/DS_PT_09_2023/.venv/lib/python3.11/site-packages (from textacy) (1.4.0)\n",
            "Requirement already satisfied: spacy~=3.0 in /Users/hectormoya/Documents/GitHub/DS_PT_09_2023/.venv/lib/python3.11/site-packages (from textacy) (3.7.4)\n",
            "Requirement already satisfied: tqdm>=4.19.6 in /Users/hectormoya/Documents/GitHub/DS_PT_09_2023/.venv/lib/python3.11/site-packages (from textacy) (4.66.2)\n",
            "Collecting toolz>=0.8.0 (from cytoolz>=0.10.1->textacy)\n",
            "  Downloading toolz-0.12.1-py3-none-any.whl.metadata (5.1 kB)\n",
            "Requirement already satisfied: charset-normalizer<4,>=2 in /Users/hectormoya/Documents/GitHub/DS_PT_09_2023/.venv/lib/python3.11/site-packages (from requests>=2.10.0->textacy) (3.3.2)\n",
            "Requirement already satisfied: idna<4,>=2.5 in /Users/hectormoya/Documents/GitHub/DS_PT_09_2023/.venv/lib/python3.11/site-packages (from requests>=2.10.0->textacy) (3.6)\n",
            "Requirement already satisfied: urllib3<3,>=1.21.1 in /Users/hectormoya/Documents/GitHub/DS_PT_09_2023/.venv/lib/python3.11/site-packages (from requests>=2.10.0->textacy) (2.2.0)\n",
            "Requirement already satisfied: certifi>=2017.4.17 in /Users/hectormoya/Documents/GitHub/DS_PT_09_2023/.venv/lib/python3.11/site-packages (from requests>=2.10.0->textacy) (2024.2.2)\n",
            "Requirement already satisfied: threadpoolctl>=2.0.0 in /Users/hectormoya/Documents/GitHub/DS_PT_09_2023/.venv/lib/python3.11/site-packages (from scikit-learn>=1.0->textacy) (3.3.0)\n",
            "Requirement already satisfied: spacy-legacy<3.1.0,>=3.0.11 in /Users/hectormoya/Documents/GitHub/DS_PT_09_2023/.venv/lib/python3.11/site-packages (from spacy~=3.0->textacy) (3.0.12)\n",
            "Requirement already satisfied: spacy-loggers<2.0.0,>=1.0.0 in /Users/hectormoya/Documents/GitHub/DS_PT_09_2023/.venv/lib/python3.11/site-packages (from spacy~=3.0->textacy) (1.0.5)\n",
            "Requirement already satisfied: murmurhash<1.1.0,>=0.28.0 in /Users/hectormoya/Documents/GitHub/DS_PT_09_2023/.venv/lib/python3.11/site-packages (from spacy~=3.0->textacy) (1.0.10)\n",
            "Requirement already satisfied: cymem<2.1.0,>=2.0.2 in /Users/hectormoya/Documents/GitHub/DS_PT_09_2023/.venv/lib/python3.11/site-packages (from spacy~=3.0->textacy) (2.0.8)\n",
            "Requirement already satisfied: preshed<3.1.0,>=3.0.2 in /Users/hectormoya/Documents/GitHub/DS_PT_09_2023/.venv/lib/python3.11/site-packages (from spacy~=3.0->textacy) (3.0.9)\n",
            "Requirement already satisfied: thinc<8.3.0,>=8.2.2 in /Users/hectormoya/Documents/GitHub/DS_PT_09_2023/.venv/lib/python3.11/site-packages (from spacy~=3.0->textacy) (8.2.3)\n",
            "Requirement already satisfied: wasabi<1.2.0,>=0.9.1 in /Users/hectormoya/Documents/GitHub/DS_PT_09_2023/.venv/lib/python3.11/site-packages (from spacy~=3.0->textacy) (1.1.2)\n",
            "Requirement already satisfied: srsly<3.0.0,>=2.4.3 in /Users/hectormoya/Documents/GitHub/DS_PT_09_2023/.venv/lib/python3.11/site-packages (from spacy~=3.0->textacy) (2.4.8)\n",
            "Requirement already satisfied: weasel<0.4.0,>=0.1.0 in /Users/hectormoya/Documents/GitHub/DS_PT_09_2023/.venv/lib/python3.11/site-packages (from spacy~=3.0->textacy) (0.3.4)\n",
            "Requirement already satisfied: typer<0.10.0,>=0.3.0 in /Users/hectormoya/Documents/GitHub/DS_PT_09_2023/.venv/lib/python3.11/site-packages (from spacy~=3.0->textacy) (0.9.0)\n",
            "Requirement already satisfied: smart-open<7.0.0,>=5.2.1 in /Users/hectormoya/Documents/GitHub/DS_PT_09_2023/.venv/lib/python3.11/site-packages (from spacy~=3.0->textacy) (6.4.0)\n",
            "Requirement already satisfied: pydantic!=1.8,!=1.8.1,<3.0.0,>=1.7.4 in /Users/hectormoya/Documents/GitHub/DS_PT_09_2023/.venv/lib/python3.11/site-packages (from spacy~=3.0->textacy) (2.6.3)\n",
            "Requirement already satisfied: jinja2 in /Users/hectormoya/Documents/GitHub/DS_PT_09_2023/.venv/lib/python3.11/site-packages (from spacy~=3.0->textacy) (3.1.3)\n",
            "Requirement already satisfied: setuptools in /Users/hectormoya/Documents/GitHub/DS_PT_09_2023/.venv/lib/python3.11/site-packages (from spacy~=3.0->textacy) (65.5.0)\n",
            "Requirement already satisfied: packaging>=20.0 in /Users/hectormoya/Documents/GitHub/DS_PT_09_2023/.venv/lib/python3.11/site-packages (from spacy~=3.0->textacy) (23.2)\n",
            "Requirement already satisfied: langcodes<4.0.0,>=3.2.0 in /Users/hectormoya/Documents/GitHub/DS_PT_09_2023/.venv/lib/python3.11/site-packages (from spacy~=3.0->textacy) (3.3.0)\n",
            "Requirement already satisfied: annotated-types>=0.4.0 in /Users/hectormoya/Documents/GitHub/DS_PT_09_2023/.venv/lib/python3.11/site-packages (from pydantic!=1.8,!=1.8.1,<3.0.0,>=1.7.4->spacy~=3.0->textacy) (0.6.0)\n",
            "Requirement already satisfied: pydantic-core==2.16.3 in /Users/hectormoya/Documents/GitHub/DS_PT_09_2023/.venv/lib/python3.11/site-packages (from pydantic!=1.8,!=1.8.1,<3.0.0,>=1.7.4->spacy~=3.0->textacy) (2.16.3)\n",
            "Requirement already satisfied: typing-extensions>=4.6.1 in /Users/hectormoya/Documents/GitHub/DS_PT_09_2023/.venv/lib/python3.11/site-packages (from pydantic!=1.8,!=1.8.1,<3.0.0,>=1.7.4->spacy~=3.0->textacy) (4.9.0)\n",
            "Requirement already satisfied: blis<0.8.0,>=0.7.8 in /Users/hectormoya/Documents/GitHub/DS_PT_09_2023/.venv/lib/python3.11/site-packages (from thinc<8.3.0,>=8.2.2->spacy~=3.0->textacy) (0.7.11)\n",
            "Requirement already satisfied: confection<1.0.0,>=0.0.1 in /Users/hectormoya/Documents/GitHub/DS_PT_09_2023/.venv/lib/python3.11/site-packages (from thinc<8.3.0,>=8.2.2->spacy~=3.0->textacy) (0.1.4)\n",
            "Requirement already satisfied: click<9.0.0,>=7.1.1 in /Users/hectormoya/Documents/GitHub/DS_PT_09_2023/.venv/lib/python3.11/site-packages (from typer<0.10.0,>=0.3.0->spacy~=3.0->textacy) (8.1.7)\n",
            "Requirement already satisfied: cloudpathlib<0.17.0,>=0.7.0 in /Users/hectormoya/Documents/GitHub/DS_PT_09_2023/.venv/lib/python3.11/site-packages (from weasel<0.4.0,>=0.1.0->spacy~=3.0->textacy) (0.16.0)\n",
            "Requirement already satisfied: MarkupSafe>=2.0 in /Users/hectormoya/Documents/GitHub/DS_PT_09_2023/.venv/lib/python3.11/site-packages (from jinja2->spacy~=3.0->textacy) (2.1.5)\n",
            "Downloading textacy-0.13.0-py3-none-any.whl (210 kB)\n",
            "\u001b[2K   \u001b[90m━━━━━━━━━━━━━━━━━━━━━━━━━━━━━━━━━━━━━━━━\u001b[0m \u001b[32m210.7/210.7 kB\u001b[0m \u001b[31m3.5 MB/s\u001b[0m eta \u001b[36m0:00:00\u001b[0ma \u001b[36m0:00:01\u001b[0m\n",
            "\u001b[?25hDownloading cytoolz-0.12.3-cp311-cp311-macosx_10_9_x86_64.whl (416 kB)\n",
            "\u001b[2K   \u001b[90m━━━━━━━━━━━━━━━━━━━━━━━━━━━━━━━━━━━━━━━━\u001b[0m \u001b[32m416.4/416.4 kB\u001b[0m \u001b[31m8.5 MB/s\u001b[0m eta \u001b[36m0:00:00\u001b[0m:00:01\u001b[0m\n",
            "\u001b[?25hDownloading floret-0.10.5-cp311-cp311-macosx_11_0_x86_64.whl (370 kB)\n",
            "\u001b[2K   \u001b[90m━━━━━━━━━━━━━━━━━━━━━━━━━━━━━━━━━━━━━━━━\u001b[0m \u001b[32m370.4/370.4 kB\u001b[0m \u001b[31m13.3 MB/s\u001b[0m eta \u001b[36m0:00:00\u001b[0m\n",
            "\u001b[?25hDownloading jellyfish-1.0.3-cp311-cp311-macosx_10_7_x86_64.whl (349 kB)\n",
            "\u001b[2K   \u001b[90m━━━━━━━━━━━━━━━━━━━━━━━━━━━━━━━━━━━━━━━━\u001b[0m \u001b[32m349.2/349.2 kB\u001b[0m \u001b[31m12.3 MB/s\u001b[0m eta \u001b[36m0:00:00\u001b[0m\n",
            "\u001b[?25hDownloading pyphen-0.14.0-py3-none-any.whl (2.0 MB)\n",
            "\u001b[2K   \u001b[90m━━━━━━━━━━━━━━━━━━━━━━━━━━━━━━━━━━━━━━━━\u001b[0m \u001b[32m2.0/2.0 MB\u001b[0m \u001b[31m24.5 MB/s\u001b[0m eta \u001b[36m0:00:00\u001b[0m00:01\u001b[0m00:01\u001b[0m\n",
            "\u001b[?25hDownloading toolz-0.12.1-py3-none-any.whl (56 kB)\n",
            "\u001b[2K   \u001b[90m━━━━━━━━━━━━━━━━━━━━━━━━━━━━━━━━━━━━━━━━\u001b[0m \u001b[32m56.1/56.1 kB\u001b[0m \u001b[31m2.1 MB/s\u001b[0m eta \u001b[36m0:00:00\u001b[0m\n",
            "\u001b[?25hInstalling collected packages: toolz, pyphen, jellyfish, floret, cytoolz, textacy\n",
            "Successfully installed cytoolz-0.12.3 floret-0.10.5 jellyfish-1.0.3 pyphen-0.14.0 textacy-0.13.0 toolz-0.12.1\n",
            "Collecting en-core-web-lg==3.7.1\n",
            "  Downloading https://github.com/explosion/spacy-models/releases/download/en_core_web_lg-3.7.1/en_core_web_lg-3.7.1-py3-none-any.whl (587.7 MB)\n",
            "\u001b[2K     \u001b[90m━━━━━━━━━━━━━━━━━━━━━━━━━━━━━━━━━━━━━━━\u001b[0m \u001b[32m587.7/587.7 MB\u001b[0m \u001b[31m1.5 MB/s\u001b[0m eta \u001b[36m0:00:00\u001b[0m00:01\u001b[0m00:02\u001b[0m\n",
            "\u001b[?25hRequirement already satisfied: spacy<3.8.0,>=3.7.2 in /Users/hectormoya/Documents/GitHub/DS_PT_09_2023/.venv/lib/python3.11/site-packages (from en-core-web-lg==3.7.1) (3.7.4)\n",
            "Requirement already satisfied: spacy-legacy<3.1.0,>=3.0.11 in /Users/hectormoya/Documents/GitHub/DS_PT_09_2023/.venv/lib/python3.11/site-packages (from spacy<3.8.0,>=3.7.2->en-core-web-lg==3.7.1) (3.0.12)\n",
            "Requirement already satisfied: spacy-loggers<2.0.0,>=1.0.0 in /Users/hectormoya/Documents/GitHub/DS_PT_09_2023/.venv/lib/python3.11/site-packages (from spacy<3.8.0,>=3.7.2->en-core-web-lg==3.7.1) (1.0.5)\n",
            "Requirement already satisfied: murmurhash<1.1.0,>=0.28.0 in /Users/hectormoya/Documents/GitHub/DS_PT_09_2023/.venv/lib/python3.11/site-packages (from spacy<3.8.0,>=3.7.2->en-core-web-lg==3.7.1) (1.0.10)\n",
            "Requirement already satisfied: cymem<2.1.0,>=2.0.2 in /Users/hectormoya/Documents/GitHub/DS_PT_09_2023/.venv/lib/python3.11/site-packages (from spacy<3.8.0,>=3.7.2->en-core-web-lg==3.7.1) (2.0.8)\n",
            "Requirement already satisfied: preshed<3.1.0,>=3.0.2 in /Users/hectormoya/Documents/GitHub/DS_PT_09_2023/.venv/lib/python3.11/site-packages (from spacy<3.8.0,>=3.7.2->en-core-web-lg==3.7.1) (3.0.9)\n",
            "Requirement already satisfied: thinc<8.3.0,>=8.2.2 in /Users/hectormoya/Documents/GitHub/DS_PT_09_2023/.venv/lib/python3.11/site-packages (from spacy<3.8.0,>=3.7.2->en-core-web-lg==3.7.1) (8.2.3)\n",
            "Requirement already satisfied: wasabi<1.2.0,>=0.9.1 in /Users/hectormoya/Documents/GitHub/DS_PT_09_2023/.venv/lib/python3.11/site-packages (from spacy<3.8.0,>=3.7.2->en-core-web-lg==3.7.1) (1.1.2)\n",
            "Requirement already satisfied: srsly<3.0.0,>=2.4.3 in /Users/hectormoya/Documents/GitHub/DS_PT_09_2023/.venv/lib/python3.11/site-packages (from spacy<3.8.0,>=3.7.2->en-core-web-lg==3.7.1) (2.4.8)\n",
            "Requirement already satisfied: catalogue<2.1.0,>=2.0.6 in /Users/hectormoya/Documents/GitHub/DS_PT_09_2023/.venv/lib/python3.11/site-packages (from spacy<3.8.0,>=3.7.2->en-core-web-lg==3.7.1) (2.0.10)\n",
            "Requirement already satisfied: weasel<0.4.0,>=0.1.0 in /Users/hectormoya/Documents/GitHub/DS_PT_09_2023/.venv/lib/python3.11/site-packages (from spacy<3.8.0,>=3.7.2->en-core-web-lg==3.7.1) (0.3.4)\n",
            "Requirement already satisfied: typer<0.10.0,>=0.3.0 in /Users/hectormoya/Documents/GitHub/DS_PT_09_2023/.venv/lib/python3.11/site-packages (from spacy<3.8.0,>=3.7.2->en-core-web-lg==3.7.1) (0.9.0)\n",
            "Requirement already satisfied: smart-open<7.0.0,>=5.2.1 in /Users/hectormoya/Documents/GitHub/DS_PT_09_2023/.venv/lib/python3.11/site-packages (from spacy<3.8.0,>=3.7.2->en-core-web-lg==3.7.1) (6.4.0)\n",
            "Requirement already satisfied: tqdm<5.0.0,>=4.38.0 in /Users/hectormoya/Documents/GitHub/DS_PT_09_2023/.venv/lib/python3.11/site-packages (from spacy<3.8.0,>=3.7.2->en-core-web-lg==3.7.1) (4.66.2)\n",
            "Requirement already satisfied: requests<3.0.0,>=2.13.0 in /Users/hectormoya/Documents/GitHub/DS_PT_09_2023/.venv/lib/python3.11/site-packages (from spacy<3.8.0,>=3.7.2->en-core-web-lg==3.7.1) (2.31.0)\n",
            "Requirement already satisfied: pydantic!=1.8,!=1.8.1,<3.0.0,>=1.7.4 in /Users/hectormoya/Documents/GitHub/DS_PT_09_2023/.venv/lib/python3.11/site-packages (from spacy<3.8.0,>=3.7.2->en-core-web-lg==3.7.1) (2.6.3)\n",
            "Requirement already satisfied: jinja2 in /Users/hectormoya/Documents/GitHub/DS_PT_09_2023/.venv/lib/python3.11/site-packages (from spacy<3.8.0,>=3.7.2->en-core-web-lg==3.7.1) (3.1.3)\n",
            "Requirement already satisfied: setuptools in /Users/hectormoya/Documents/GitHub/DS_PT_09_2023/.venv/lib/python3.11/site-packages (from spacy<3.8.0,>=3.7.2->en-core-web-lg==3.7.1) (65.5.0)\n",
            "Requirement already satisfied: packaging>=20.0 in /Users/hectormoya/Documents/GitHub/DS_PT_09_2023/.venv/lib/python3.11/site-packages (from spacy<3.8.0,>=3.7.2->en-core-web-lg==3.7.1) (23.2)\n",
            "Requirement already satisfied: langcodes<4.0.0,>=3.2.0 in /Users/hectormoya/Documents/GitHub/DS_PT_09_2023/.venv/lib/python3.11/site-packages (from spacy<3.8.0,>=3.7.2->en-core-web-lg==3.7.1) (3.3.0)\n",
            "Requirement already satisfied: numpy>=1.19.0 in /Users/hectormoya/Documents/GitHub/DS_PT_09_2023/.venv/lib/python3.11/site-packages (from spacy<3.8.0,>=3.7.2->en-core-web-lg==3.7.1) (1.26.4)\n",
            "Requirement already satisfied: annotated-types>=0.4.0 in /Users/hectormoya/Documents/GitHub/DS_PT_09_2023/.venv/lib/python3.11/site-packages (from pydantic!=1.8,!=1.8.1,<3.0.0,>=1.7.4->spacy<3.8.0,>=3.7.2->en-core-web-lg==3.7.1) (0.6.0)\n",
            "Requirement already satisfied: pydantic-core==2.16.3 in /Users/hectormoya/Documents/GitHub/DS_PT_09_2023/.venv/lib/python3.11/site-packages (from pydantic!=1.8,!=1.8.1,<3.0.0,>=1.7.4->spacy<3.8.0,>=3.7.2->en-core-web-lg==3.7.1) (2.16.3)\n",
            "Requirement already satisfied: typing-extensions>=4.6.1 in /Users/hectormoya/Documents/GitHub/DS_PT_09_2023/.venv/lib/python3.11/site-packages (from pydantic!=1.8,!=1.8.1,<3.0.0,>=1.7.4->spacy<3.8.0,>=3.7.2->en-core-web-lg==3.7.1) (4.9.0)\n",
            "Requirement already satisfied: charset-normalizer<4,>=2 in /Users/hectormoya/Documents/GitHub/DS_PT_09_2023/.venv/lib/python3.11/site-packages (from requests<3.0.0,>=2.13.0->spacy<3.8.0,>=3.7.2->en-core-web-lg==3.7.1) (3.3.2)\n",
            "Requirement already satisfied: idna<4,>=2.5 in /Users/hectormoya/Documents/GitHub/DS_PT_09_2023/.venv/lib/python3.11/site-packages (from requests<3.0.0,>=2.13.0->spacy<3.8.0,>=3.7.2->en-core-web-lg==3.7.1) (3.6)\n",
            "Requirement already satisfied: urllib3<3,>=1.21.1 in /Users/hectormoya/Documents/GitHub/DS_PT_09_2023/.venv/lib/python3.11/site-packages (from requests<3.0.0,>=2.13.0->spacy<3.8.0,>=3.7.2->en-core-web-lg==3.7.1) (2.2.0)\n",
            "Requirement already satisfied: certifi>=2017.4.17 in /Users/hectormoya/Documents/GitHub/DS_PT_09_2023/.venv/lib/python3.11/site-packages (from requests<3.0.0,>=2.13.0->spacy<3.8.0,>=3.7.2->en-core-web-lg==3.7.1) (2024.2.2)\n",
            "Requirement already satisfied: blis<0.8.0,>=0.7.8 in /Users/hectormoya/Documents/GitHub/DS_PT_09_2023/.venv/lib/python3.11/site-packages (from thinc<8.3.0,>=8.2.2->spacy<3.8.0,>=3.7.2->en-core-web-lg==3.7.1) (0.7.11)\n",
            "Requirement already satisfied: confection<1.0.0,>=0.0.1 in /Users/hectormoya/Documents/GitHub/DS_PT_09_2023/.venv/lib/python3.11/site-packages (from thinc<8.3.0,>=8.2.2->spacy<3.8.0,>=3.7.2->en-core-web-lg==3.7.1) (0.1.4)\n",
            "Requirement already satisfied: click<9.0.0,>=7.1.1 in /Users/hectormoya/Documents/GitHub/DS_PT_09_2023/.venv/lib/python3.11/site-packages (from typer<0.10.0,>=0.3.0->spacy<3.8.0,>=3.7.2->en-core-web-lg==3.7.1) (8.1.7)\n",
            "Requirement already satisfied: cloudpathlib<0.17.0,>=0.7.0 in /Users/hectormoya/Documents/GitHub/DS_PT_09_2023/.venv/lib/python3.11/site-packages (from weasel<0.4.0,>=0.1.0->spacy<3.8.0,>=3.7.2->en-core-web-lg==3.7.1) (0.16.0)\n",
            "Requirement already satisfied: MarkupSafe>=2.0 in /Users/hectormoya/Documents/GitHub/DS_PT_09_2023/.venv/lib/python3.11/site-packages (from jinja2->spacy<3.8.0,>=3.7.2->en-core-web-lg==3.7.1) (2.1.5)\n",
            "Installing collected packages: en-core-web-lg\n",
            "Successfully installed en-core-web-lg-3.7.1\n",
            "\u001b[38;5;2m✔ Download and installation successful\u001b[0m\n",
            "You can now load the package via spacy.load('en_core_web_lg')\n",
            "Collecting es-core-news-lg==3.7.0\n",
            "  Downloading https://github.com/explosion/spacy-models/releases/download/es_core_news_lg-3.7.0/es_core_news_lg-3.7.0-py3-none-any.whl (568.0 MB)\n",
            "\u001b[2K     \u001b[90m━━━━━━━━━━━━━━━━━━━━━━━━━━━━━━━━━━━━━━━\u001b[0m \u001b[32m568.0/568.0 MB\u001b[0m \u001b[31m1.7 MB/s\u001b[0m eta \u001b[36m0:00:00\u001b[0m00:01\u001b[0m00:01\u001b[0m\n",
            "\u001b[?25hRequirement already satisfied: spacy<3.8.0,>=3.7.0 in /Users/hectormoya/Documents/GitHub/DS_PT_09_2023/.venv/lib/python3.11/site-packages (from es-core-news-lg==3.7.0) (3.7.4)\n",
            "Requirement already satisfied: spacy-legacy<3.1.0,>=3.0.11 in /Users/hectormoya/Documents/GitHub/DS_PT_09_2023/.venv/lib/python3.11/site-packages (from spacy<3.8.0,>=3.7.0->es-core-news-lg==3.7.0) (3.0.12)\n",
            "Requirement already satisfied: spacy-loggers<2.0.0,>=1.0.0 in /Users/hectormoya/Documents/GitHub/DS_PT_09_2023/.venv/lib/python3.11/site-packages (from spacy<3.8.0,>=3.7.0->es-core-news-lg==3.7.0) (1.0.5)\n",
            "Requirement already satisfied: murmurhash<1.1.0,>=0.28.0 in /Users/hectormoya/Documents/GitHub/DS_PT_09_2023/.venv/lib/python3.11/site-packages (from spacy<3.8.0,>=3.7.0->es-core-news-lg==3.7.0) (1.0.10)\n",
            "Requirement already satisfied: cymem<2.1.0,>=2.0.2 in /Users/hectormoya/Documents/GitHub/DS_PT_09_2023/.venv/lib/python3.11/site-packages (from spacy<3.8.0,>=3.7.0->es-core-news-lg==3.7.0) (2.0.8)\n",
            "Requirement already satisfied: preshed<3.1.0,>=3.0.2 in /Users/hectormoya/Documents/GitHub/DS_PT_09_2023/.venv/lib/python3.11/site-packages (from spacy<3.8.0,>=3.7.0->es-core-news-lg==3.7.0) (3.0.9)\n",
            "Requirement already satisfied: thinc<8.3.0,>=8.2.2 in /Users/hectormoya/Documents/GitHub/DS_PT_09_2023/.venv/lib/python3.11/site-packages (from spacy<3.8.0,>=3.7.0->es-core-news-lg==3.7.0) (8.2.3)\n",
            "Requirement already satisfied: wasabi<1.2.0,>=0.9.1 in /Users/hectormoya/Documents/GitHub/DS_PT_09_2023/.venv/lib/python3.11/site-packages (from spacy<3.8.0,>=3.7.0->es-core-news-lg==3.7.0) (1.1.2)\n",
            "Requirement already satisfied: srsly<3.0.0,>=2.4.3 in /Users/hectormoya/Documents/GitHub/DS_PT_09_2023/.venv/lib/python3.11/site-packages (from spacy<3.8.0,>=3.7.0->es-core-news-lg==3.7.0) (2.4.8)\n",
            "Requirement already satisfied: catalogue<2.1.0,>=2.0.6 in /Users/hectormoya/Documents/GitHub/DS_PT_09_2023/.venv/lib/python3.11/site-packages (from spacy<3.8.0,>=3.7.0->es-core-news-lg==3.7.0) (2.0.10)\n",
            "Requirement already satisfied: weasel<0.4.0,>=0.1.0 in /Users/hectormoya/Documents/GitHub/DS_PT_09_2023/.venv/lib/python3.11/site-packages (from spacy<3.8.0,>=3.7.0->es-core-news-lg==3.7.0) (0.3.4)\n",
            "Requirement already satisfied: typer<0.10.0,>=0.3.0 in /Users/hectormoya/Documents/GitHub/DS_PT_09_2023/.venv/lib/python3.11/site-packages (from spacy<3.8.0,>=3.7.0->es-core-news-lg==3.7.0) (0.9.0)\n",
            "Requirement already satisfied: smart-open<7.0.0,>=5.2.1 in /Users/hectormoya/Documents/GitHub/DS_PT_09_2023/.venv/lib/python3.11/site-packages (from spacy<3.8.0,>=3.7.0->es-core-news-lg==3.7.0) (6.4.0)\n",
            "Requirement already satisfied: tqdm<5.0.0,>=4.38.0 in /Users/hectormoya/Documents/GitHub/DS_PT_09_2023/.venv/lib/python3.11/site-packages (from spacy<3.8.0,>=3.7.0->es-core-news-lg==3.7.0) (4.66.2)\n",
            "Requirement already satisfied: requests<3.0.0,>=2.13.0 in /Users/hectormoya/Documents/GitHub/DS_PT_09_2023/.venv/lib/python3.11/site-packages (from spacy<3.8.0,>=3.7.0->es-core-news-lg==3.7.0) (2.31.0)\n",
            "Requirement already satisfied: pydantic!=1.8,!=1.8.1,<3.0.0,>=1.7.4 in /Users/hectormoya/Documents/GitHub/DS_PT_09_2023/.venv/lib/python3.11/site-packages (from spacy<3.8.0,>=3.7.0->es-core-news-lg==3.7.0) (2.6.3)\n",
            "Requirement already satisfied: jinja2 in /Users/hectormoya/Documents/GitHub/DS_PT_09_2023/.venv/lib/python3.11/site-packages (from spacy<3.8.0,>=3.7.0->es-core-news-lg==3.7.0) (3.1.3)\n",
            "Requirement already satisfied: setuptools in /Users/hectormoya/Documents/GitHub/DS_PT_09_2023/.venv/lib/python3.11/site-packages (from spacy<3.8.0,>=3.7.0->es-core-news-lg==3.7.0) (65.5.0)\n",
            "Requirement already satisfied: packaging>=20.0 in /Users/hectormoya/Documents/GitHub/DS_PT_09_2023/.venv/lib/python3.11/site-packages (from spacy<3.8.0,>=3.7.0->es-core-news-lg==3.7.0) (23.2)\n",
            "Requirement already satisfied: langcodes<4.0.0,>=3.2.0 in /Users/hectormoya/Documents/GitHub/DS_PT_09_2023/.venv/lib/python3.11/site-packages (from spacy<3.8.0,>=3.7.0->es-core-news-lg==3.7.0) (3.3.0)\n",
            "Requirement already satisfied: numpy>=1.19.0 in /Users/hectormoya/Documents/GitHub/DS_PT_09_2023/.venv/lib/python3.11/site-packages (from spacy<3.8.0,>=3.7.0->es-core-news-lg==3.7.0) (1.26.4)\n",
            "Requirement already satisfied: annotated-types>=0.4.0 in /Users/hectormoya/Documents/GitHub/DS_PT_09_2023/.venv/lib/python3.11/site-packages (from pydantic!=1.8,!=1.8.1,<3.0.0,>=1.7.4->spacy<3.8.0,>=3.7.0->es-core-news-lg==3.7.0) (0.6.0)\n",
            "Requirement already satisfied: pydantic-core==2.16.3 in /Users/hectormoya/Documents/GitHub/DS_PT_09_2023/.venv/lib/python3.11/site-packages (from pydantic!=1.8,!=1.8.1,<3.0.0,>=1.7.4->spacy<3.8.0,>=3.7.0->es-core-news-lg==3.7.0) (2.16.3)\n",
            "Requirement already satisfied: typing-extensions>=4.6.1 in /Users/hectormoya/Documents/GitHub/DS_PT_09_2023/.venv/lib/python3.11/site-packages (from pydantic!=1.8,!=1.8.1,<3.0.0,>=1.7.4->spacy<3.8.0,>=3.7.0->es-core-news-lg==3.7.0) (4.9.0)\n",
            "Requirement already satisfied: charset-normalizer<4,>=2 in /Users/hectormoya/Documents/GitHub/DS_PT_09_2023/.venv/lib/python3.11/site-packages (from requests<3.0.0,>=2.13.0->spacy<3.8.0,>=3.7.0->es-core-news-lg==3.7.0) (3.3.2)\n",
            "Requirement already satisfied: idna<4,>=2.5 in /Users/hectormoya/Documents/GitHub/DS_PT_09_2023/.venv/lib/python3.11/site-packages (from requests<3.0.0,>=2.13.0->spacy<3.8.0,>=3.7.0->es-core-news-lg==3.7.0) (3.6)\n",
            "Requirement already satisfied: urllib3<3,>=1.21.1 in /Users/hectormoya/Documents/GitHub/DS_PT_09_2023/.venv/lib/python3.11/site-packages (from requests<3.0.0,>=2.13.0->spacy<3.8.0,>=3.7.0->es-core-news-lg==3.7.0) (2.2.0)\n",
            "Requirement already satisfied: certifi>=2017.4.17 in /Users/hectormoya/Documents/GitHub/DS_PT_09_2023/.venv/lib/python3.11/site-packages (from requests<3.0.0,>=2.13.0->spacy<3.8.0,>=3.7.0->es-core-news-lg==3.7.0) (2024.2.2)\n",
            "Requirement already satisfied: blis<0.8.0,>=0.7.8 in /Users/hectormoya/Documents/GitHub/DS_PT_09_2023/.venv/lib/python3.11/site-packages (from thinc<8.3.0,>=8.2.2->spacy<3.8.0,>=3.7.0->es-core-news-lg==3.7.0) (0.7.11)\n",
            "Requirement already satisfied: confection<1.0.0,>=0.0.1 in /Users/hectormoya/Documents/GitHub/DS_PT_09_2023/.venv/lib/python3.11/site-packages (from thinc<8.3.0,>=8.2.2->spacy<3.8.0,>=3.7.0->es-core-news-lg==3.7.0) (0.1.4)\n",
            "Requirement already satisfied: click<9.0.0,>=7.1.1 in /Users/hectormoya/Documents/GitHub/DS_PT_09_2023/.venv/lib/python3.11/site-packages (from typer<0.10.0,>=0.3.0->spacy<3.8.0,>=3.7.0->es-core-news-lg==3.7.0) (8.1.7)\n",
            "Requirement already satisfied: cloudpathlib<0.17.0,>=0.7.0 in /Users/hectormoya/Documents/GitHub/DS_PT_09_2023/.venv/lib/python3.11/site-packages (from weasel<0.4.0,>=0.1.0->spacy<3.8.0,>=3.7.0->es-core-news-lg==3.7.0) (0.16.0)\n",
            "Requirement already satisfied: MarkupSafe>=2.0 in /Users/hectormoya/Documents/GitHub/DS_PT_09_2023/.venv/lib/python3.11/site-packages (from jinja2->spacy<3.8.0,>=3.7.0->es-core-news-lg==3.7.0) (2.1.5)\n",
            "Installing collected packages: es-core-news-lg\n",
            "Successfully installed es-core-news-lg-3.7.0\n",
            "\u001b[38;5;2m✔ Download and installation successful\u001b[0m\n",
            "You can now load the package via spacy.load('es_core_news_lg')\n"
          ]
        }
      ],
      "source": [
        "'''\n",
        "Versiones compatibles\n",
        "Despues hay que reiniciar el entorno de ejecución\n",
        "'''\n",
        "!pip install spacy\n",
        "!pip install textacy\n",
        "\n",
        "# # Para siguientes ejecuciones, solo ejecutar esto y reiniciar despues el entorno\n",
        "!python -m spacy download en_core_web_lg\n",
        "!python -m spacy download es_core_news_lg\n"
      ]
    },
    {
      "cell_type": "markdown",
      "metadata": {
        "id": "A5rKVBF0pKa6"
      },
      "source": [
        "# Spacy\n",
        "https://spacy.io/\n",
        "\n",
        "NOTA: Recuerda reiniciar el entorno de ejecucion despues de la instalacion"
      ]
    },
    {
      "cell_type": "code",
      "execution_count": 2,
      "metadata": {
        "id": "g5__omBtznMg"
      },
      "outputs": [],
      "source": [
        "import spacy\n",
        "\n",
        "nlp = spacy.load('en_core_web_lg')"
      ]
    },
    {
      "cell_type": "markdown",
      "metadata": {
        "id": "XvUcxUvRx3CT"
      },
      "source": [
        "## Text basics\n",
        "Veamos como trabajar cn estos primeros ejemplos con la libreria ´spacy´. Cosas que podemos hacer:\n",
        "1. Tokenizar en frases\n",
        "2. Tokenizar en palabras\n",
        "3. Acceder a los atributos de cada token\n",
        "4. Acceder a las entidades del texto\n",
        "5. Visualizar las entidades del texto"
      ]
    },
    {
      "cell_type": "code",
      "execution_count": 3,
      "metadata": {
        "colab": {
          "base_uri": "https://localhost:8080/"
        },
        "id": "yx7f0Wv9ul01",
        "outputId": "da5d47cf-de20-4e1e-ebcc-d4ee4e09b77b"
      },
      "outputs": [
        {
          "name": "stdout",
          "output_type": "stream",
          "text": [
            "\n",
            "London is the capital and most populous city of England and \n",
            "the United Kingdom.  Standing on the River Thames in the south east \n",
            "of the island of Great Britain, London has been a major settlement \n",
            "for two millennia. It was founded by the Romans, who named it Londinium.\n",
            "\n",
            "0 \n",
            "London is the capital and most populous city of England and \n",
            "the United Kingdom.  \n",
            "1 Standing on the River Thames in the south east \n",
            "of the island of Great Britain, London has been a major settlement \n",
            "for two millennia.\n",
            "2 It was founded by the Romans, who named it Londinium.\n",
            "\n"
          ]
        }
      ],
      "source": [
        "# The text we want to examine\n",
        "text = \"\"\"\n",
        "London is the capital and most populous city of England and \n",
        "the United Kingdom.  Standing on the River Thames in the south east \n",
        "of the island of Great Britain, London has been a major settlement \n",
        "for two millennia. It was founded by the Romans, who named it Londinium.\n",
        "\"\"\"\n",
        "\n",
        "doc = nlp(text)\n",
        "\n",
        "print(doc)\n",
        "\n",
        "for num, sentence in enumerate(doc.sents):\n",
        "  print(num, sentence)\n"
      ]
    },
    {
      "cell_type": "code",
      "execution_count": 4,
      "metadata": {},
      "outputs": [
        {
          "name": "stdout",
          "output_type": "stream",
          "text": [
            "\n",
            " \n",
            " SPACE False\n",
            "London London PROPN False\n",
            "is be AUX True\n",
            "the the DET True\n",
            "capital capital NOUN False\n",
            "and and CCONJ True\n",
            "most most ADV True\n",
            "populous populous ADJ False\n",
            "city city NOUN False\n",
            "of of ADP True\n",
            "England England PROPN False\n",
            "and and CCONJ True\n",
            "\n",
            " \n",
            " SPACE False\n",
            "the the DET True\n",
            "United United PROPN False\n",
            "Kingdom Kingdom PROPN False\n",
            ". . PUNCT False\n",
            "    SPACE False\n",
            "Standing stand VERB False\n",
            "on on ADP True\n"
          ]
        }
      ],
      "source": [
        "for word in doc[:20]:\n",
        "  print(word.text, word.lemma_, word.pos_, word.is_stop)"
      ]
    },
    {
      "cell_type": "code",
      "execution_count": 7,
      "metadata": {
        "colab": {
          "base_uri": "https://localhost:8080/"
        },
        "id": "JIe3TYa9RNfm",
        "outputId": "f90a4cd9-f411-41e5-a000-750fb5f88e7d"
      },
      "outputs": [
        {
          "data": {
            "text/plain": [
              "spacy.tokens.doc.Doc"
            ]
          },
          "execution_count": 7,
          "metadata": {},
          "output_type": "execute_result"
        }
      ],
      "source": [
        "type(doc)"
      ]
    },
    {
      "cell_type": "markdown",
      "metadata": {
        "id": "UpBWJ2gby81T"
      },
      "source": [
        "## Análisis sintáctico\n",
        "Hacer los deberes"
      ]
    },
    {
      "cell_type": "code",
      "execution_count": 5,
      "metadata": {
        "colab": {
          "base_uri": "https://localhost:8080/",
          "height": 615
        },
        "id": "9N42WYyyy86b",
        "outputId": "f2d56011-4783-4711-f8f7-445f2a46dfd2"
      },
      "outputs": [
        {
          "data": {
            "text/html": [
              "<span class=\"tex2jax_ignore\"><svg xmlns=\"http://www.w3.org/2000/svg\" xmlns:xlink=\"http://www.w3.org/1999/xlink\" xml:lang=\"en\" id=\"de227be56743429faca197dad9d05ed3-0\" class=\"displacy\" width=\"2500\" height=\"399.5\" direction=\"ltr\" style=\"max-width: none; height: 399.5px; color: #000000; background: #ffffff; font-family: Arial; direction: ltr\">\n",
              "<text class=\"displacy-token\" fill=\"currentColor\" text-anchor=\"middle\" y=\"309.5\">\n",
              "    <tspan class=\"displacy-word\" fill=\"currentColor\" x=\"50\">London</tspan>\n",
              "    <tspan class=\"displacy-tag\" dy=\"2em\" fill=\"currentColor\" x=\"50\">PROPN</tspan>\n",
              "</text>\n",
              "\n",
              "<text class=\"displacy-token\" fill=\"currentColor\" text-anchor=\"middle\" y=\"309.5\">\n",
              "    <tspan class=\"displacy-word\" fill=\"currentColor\" x=\"225\">is</tspan>\n",
              "    <tspan class=\"displacy-tag\" dy=\"2em\" fill=\"currentColor\" x=\"225\">AUX</tspan>\n",
              "</text>\n",
              "\n",
              "<text class=\"displacy-token\" fill=\"currentColor\" text-anchor=\"middle\" y=\"309.5\">\n",
              "    <tspan class=\"displacy-word\" fill=\"currentColor\" x=\"400\">the</tspan>\n",
              "    <tspan class=\"displacy-tag\" dy=\"2em\" fill=\"currentColor\" x=\"400\">DET</tspan>\n",
              "</text>\n",
              "\n",
              "<text class=\"displacy-token\" fill=\"currentColor\" text-anchor=\"middle\" y=\"309.5\">\n",
              "    <tspan class=\"displacy-word\" fill=\"currentColor\" x=\"575\">capital</tspan>\n",
              "    <tspan class=\"displacy-tag\" dy=\"2em\" fill=\"currentColor\" x=\"575\">NOUN</tspan>\n",
              "</text>\n",
              "\n",
              "<text class=\"displacy-token\" fill=\"currentColor\" text-anchor=\"middle\" y=\"309.5\">\n",
              "    <tspan class=\"displacy-word\" fill=\"currentColor\" x=\"750\">and</tspan>\n",
              "    <tspan class=\"displacy-tag\" dy=\"2em\" fill=\"currentColor\" x=\"750\">CCONJ</tspan>\n",
              "</text>\n",
              "\n",
              "<text class=\"displacy-token\" fill=\"currentColor\" text-anchor=\"middle\" y=\"309.5\">\n",
              "    <tspan class=\"displacy-word\" fill=\"currentColor\" x=\"925\">most</tspan>\n",
              "    <tspan class=\"displacy-tag\" dy=\"2em\" fill=\"currentColor\" x=\"925\">ADV</tspan>\n",
              "</text>\n",
              "\n",
              "<text class=\"displacy-token\" fill=\"currentColor\" text-anchor=\"middle\" y=\"309.5\">\n",
              "    <tspan class=\"displacy-word\" fill=\"currentColor\" x=\"1100\">populous</tspan>\n",
              "    <tspan class=\"displacy-tag\" dy=\"2em\" fill=\"currentColor\" x=\"1100\">ADJ</tspan>\n",
              "</text>\n",
              "\n",
              "<text class=\"displacy-token\" fill=\"currentColor\" text-anchor=\"middle\" y=\"309.5\">\n",
              "    <tspan class=\"displacy-word\" fill=\"currentColor\" x=\"1275\">city</tspan>\n",
              "    <tspan class=\"displacy-tag\" dy=\"2em\" fill=\"currentColor\" x=\"1275\">NOUN</tspan>\n",
              "</text>\n",
              "\n",
              "<text class=\"displacy-token\" fill=\"currentColor\" text-anchor=\"middle\" y=\"309.5\">\n",
              "    <tspan class=\"displacy-word\" fill=\"currentColor\" x=\"1450\">of</tspan>\n",
              "    <tspan class=\"displacy-tag\" dy=\"2em\" fill=\"currentColor\" x=\"1450\">ADP</tspan>\n",
              "</text>\n",
              "\n",
              "<text class=\"displacy-token\" fill=\"currentColor\" text-anchor=\"middle\" y=\"309.5\">\n",
              "    <tspan class=\"displacy-word\" fill=\"currentColor\" x=\"1625\">England</tspan>\n",
              "    <tspan class=\"displacy-tag\" dy=\"2em\" fill=\"currentColor\" x=\"1625\">PROPN</tspan>\n",
              "</text>\n",
              "\n",
              "<text class=\"displacy-token\" fill=\"currentColor\" text-anchor=\"middle\" y=\"309.5\">\n",
              "    <tspan class=\"displacy-word\" fill=\"currentColor\" x=\"1800\">and</tspan>\n",
              "    <tspan class=\"displacy-tag\" dy=\"2em\" fill=\"currentColor\" x=\"1800\">CCONJ</tspan>\n",
              "</text>\n",
              "\n",
              "<text class=\"displacy-token\" fill=\"currentColor\" text-anchor=\"middle\" y=\"309.5\">\n",
              "    <tspan class=\"displacy-word\" fill=\"currentColor\" x=\"1975\">the</tspan>\n",
              "    <tspan class=\"displacy-tag\" dy=\"2em\" fill=\"currentColor\" x=\"1975\">DET</tspan>\n",
              "</text>\n",
              "\n",
              "<text class=\"displacy-token\" fill=\"currentColor\" text-anchor=\"middle\" y=\"309.5\">\n",
              "    <tspan class=\"displacy-word\" fill=\"currentColor\" x=\"2150\">United</tspan>\n",
              "    <tspan class=\"displacy-tag\" dy=\"2em\" fill=\"currentColor\" x=\"2150\">PROPN</tspan>\n",
              "</text>\n",
              "\n",
              "<text class=\"displacy-token\" fill=\"currentColor\" text-anchor=\"middle\" y=\"309.5\">\n",
              "    <tspan class=\"displacy-word\" fill=\"currentColor\" x=\"2325\">Kingdom</tspan>\n",
              "    <tspan class=\"displacy-tag\" dy=\"2em\" fill=\"currentColor\" x=\"2325\">PROPN</tspan>\n",
              "</text>\n",
              "\n",
              "<g class=\"displacy-arrow\">\n",
              "    <path class=\"displacy-arc\" id=\"arrow-de227be56743429faca197dad9d05ed3-0-0\" stroke-width=\"2px\" d=\"M70,264.5 C70,177.0 215.0,177.0 215.0,264.5\" fill=\"none\" stroke=\"currentColor\"/>\n",
              "    <text dy=\"1.25em\" style=\"font-size: 0.8em; letter-spacing: 1px\">\n",
              "        <textPath xlink:href=\"#arrow-de227be56743429faca197dad9d05ed3-0-0\" class=\"displacy-label\" startOffset=\"50%\" side=\"left\" fill=\"currentColor\" text-anchor=\"middle\">nsubj</textPath>\n",
              "    </text>\n",
              "    <path class=\"displacy-arrowhead\" d=\"M70,266.5 L62,254.5 78,254.5\" fill=\"currentColor\"/>\n",
              "</g>\n",
              "\n",
              "<g class=\"displacy-arrow\">\n",
              "    <path class=\"displacy-arc\" id=\"arrow-de227be56743429faca197dad9d05ed3-0-1\" stroke-width=\"2px\" d=\"M420,264.5 C420,177.0 565.0,177.0 565.0,264.5\" fill=\"none\" stroke=\"currentColor\"/>\n",
              "    <text dy=\"1.25em\" style=\"font-size: 0.8em; letter-spacing: 1px\">\n",
              "        <textPath xlink:href=\"#arrow-de227be56743429faca197dad9d05ed3-0-1\" class=\"displacy-label\" startOffset=\"50%\" side=\"left\" fill=\"currentColor\" text-anchor=\"middle\">det</textPath>\n",
              "    </text>\n",
              "    <path class=\"displacy-arrowhead\" d=\"M420,266.5 L412,254.5 428,254.5\" fill=\"currentColor\"/>\n",
              "</g>\n",
              "\n",
              "<g class=\"displacy-arrow\">\n",
              "    <path class=\"displacy-arc\" id=\"arrow-de227be56743429faca197dad9d05ed3-0-2\" stroke-width=\"2px\" d=\"M245,264.5 C245,89.5 570.0,89.5 570.0,264.5\" fill=\"none\" stroke=\"currentColor\"/>\n",
              "    <text dy=\"1.25em\" style=\"font-size: 0.8em; letter-spacing: 1px\">\n",
              "        <textPath xlink:href=\"#arrow-de227be56743429faca197dad9d05ed3-0-2\" class=\"displacy-label\" startOffset=\"50%\" side=\"left\" fill=\"currentColor\" text-anchor=\"middle\">attr</textPath>\n",
              "    </text>\n",
              "    <path class=\"displacy-arrowhead\" d=\"M570.0,266.5 L578.0,254.5 562.0,254.5\" fill=\"currentColor\"/>\n",
              "</g>\n",
              "\n",
              "<g class=\"displacy-arrow\">\n",
              "    <path class=\"displacy-arc\" id=\"arrow-de227be56743429faca197dad9d05ed3-0-3\" stroke-width=\"2px\" d=\"M595,264.5 C595,177.0 740.0,177.0 740.0,264.5\" fill=\"none\" stroke=\"currentColor\"/>\n",
              "    <text dy=\"1.25em\" style=\"font-size: 0.8em; letter-spacing: 1px\">\n",
              "        <textPath xlink:href=\"#arrow-de227be56743429faca197dad9d05ed3-0-3\" class=\"displacy-label\" startOffset=\"50%\" side=\"left\" fill=\"currentColor\" text-anchor=\"middle\">cc</textPath>\n",
              "    </text>\n",
              "    <path class=\"displacy-arrowhead\" d=\"M740.0,266.5 L748.0,254.5 732.0,254.5\" fill=\"currentColor\"/>\n",
              "</g>\n",
              "\n",
              "<g class=\"displacy-arrow\">\n",
              "    <path class=\"displacy-arc\" id=\"arrow-de227be56743429faca197dad9d05ed3-0-4\" stroke-width=\"2px\" d=\"M945,264.5 C945,177.0 1090.0,177.0 1090.0,264.5\" fill=\"none\" stroke=\"currentColor\"/>\n",
              "    <text dy=\"1.25em\" style=\"font-size: 0.8em; letter-spacing: 1px\">\n",
              "        <textPath xlink:href=\"#arrow-de227be56743429faca197dad9d05ed3-0-4\" class=\"displacy-label\" startOffset=\"50%\" side=\"left\" fill=\"currentColor\" text-anchor=\"middle\">advmod</textPath>\n",
              "    </text>\n",
              "    <path class=\"displacy-arrowhead\" d=\"M945,266.5 L937,254.5 953,254.5\" fill=\"currentColor\"/>\n",
              "</g>\n",
              "\n",
              "<g class=\"displacy-arrow\">\n",
              "    <path class=\"displacy-arc\" id=\"arrow-de227be56743429faca197dad9d05ed3-0-5\" stroke-width=\"2px\" d=\"M1120,264.5 C1120,177.0 1265.0,177.0 1265.0,264.5\" fill=\"none\" stroke=\"currentColor\"/>\n",
              "    <text dy=\"1.25em\" style=\"font-size: 0.8em; letter-spacing: 1px\">\n",
              "        <textPath xlink:href=\"#arrow-de227be56743429faca197dad9d05ed3-0-5\" class=\"displacy-label\" startOffset=\"50%\" side=\"left\" fill=\"currentColor\" text-anchor=\"middle\">amod</textPath>\n",
              "    </text>\n",
              "    <path class=\"displacy-arrowhead\" d=\"M1120,266.5 L1112,254.5 1128,254.5\" fill=\"currentColor\"/>\n",
              "</g>\n",
              "\n",
              "<g class=\"displacy-arrow\">\n",
              "    <path class=\"displacy-arc\" id=\"arrow-de227be56743429faca197dad9d05ed3-0-6\" stroke-width=\"2px\" d=\"M595,264.5 C595,89.5 1270.0,89.5 1270.0,264.5\" fill=\"none\" stroke=\"currentColor\"/>\n",
              "    <text dy=\"1.25em\" style=\"font-size: 0.8em; letter-spacing: 1px\">\n",
              "        <textPath xlink:href=\"#arrow-de227be56743429faca197dad9d05ed3-0-6\" class=\"displacy-label\" startOffset=\"50%\" side=\"left\" fill=\"currentColor\" text-anchor=\"middle\">conj</textPath>\n",
              "    </text>\n",
              "    <path class=\"displacy-arrowhead\" d=\"M1270.0,266.5 L1278.0,254.5 1262.0,254.5\" fill=\"currentColor\"/>\n",
              "</g>\n",
              "\n",
              "<g class=\"displacy-arrow\">\n",
              "    <path class=\"displacy-arc\" id=\"arrow-de227be56743429faca197dad9d05ed3-0-7\" stroke-width=\"2px\" d=\"M1295,264.5 C1295,177.0 1440.0,177.0 1440.0,264.5\" fill=\"none\" stroke=\"currentColor\"/>\n",
              "    <text dy=\"1.25em\" style=\"font-size: 0.8em; letter-spacing: 1px\">\n",
              "        <textPath xlink:href=\"#arrow-de227be56743429faca197dad9d05ed3-0-7\" class=\"displacy-label\" startOffset=\"50%\" side=\"left\" fill=\"currentColor\" text-anchor=\"middle\">prep</textPath>\n",
              "    </text>\n",
              "    <path class=\"displacy-arrowhead\" d=\"M1440.0,266.5 L1448.0,254.5 1432.0,254.5\" fill=\"currentColor\"/>\n",
              "</g>\n",
              "\n",
              "<g class=\"displacy-arrow\">\n",
              "    <path class=\"displacy-arc\" id=\"arrow-de227be56743429faca197dad9d05ed3-0-8\" stroke-width=\"2px\" d=\"M1470,264.5 C1470,177.0 1615.0,177.0 1615.0,264.5\" fill=\"none\" stroke=\"currentColor\"/>\n",
              "    <text dy=\"1.25em\" style=\"font-size: 0.8em; letter-spacing: 1px\">\n",
              "        <textPath xlink:href=\"#arrow-de227be56743429faca197dad9d05ed3-0-8\" class=\"displacy-label\" startOffset=\"50%\" side=\"left\" fill=\"currentColor\" text-anchor=\"middle\">pobj</textPath>\n",
              "    </text>\n",
              "    <path class=\"displacy-arrowhead\" d=\"M1615.0,266.5 L1623.0,254.5 1607.0,254.5\" fill=\"currentColor\"/>\n",
              "</g>\n",
              "\n",
              "<g class=\"displacy-arrow\">\n",
              "    <path class=\"displacy-arc\" id=\"arrow-de227be56743429faca197dad9d05ed3-0-9\" stroke-width=\"2px\" d=\"M1295,264.5 C1295,89.5 1795.0,89.5 1795.0,264.5\" fill=\"none\" stroke=\"currentColor\"/>\n",
              "    <text dy=\"1.25em\" style=\"font-size: 0.8em; letter-spacing: 1px\">\n",
              "        <textPath xlink:href=\"#arrow-de227be56743429faca197dad9d05ed3-0-9\" class=\"displacy-label\" startOffset=\"50%\" side=\"left\" fill=\"currentColor\" text-anchor=\"middle\">cc</textPath>\n",
              "    </text>\n",
              "    <path class=\"displacy-arrowhead\" d=\"M1795.0,266.5 L1803.0,254.5 1787.0,254.5\" fill=\"currentColor\"/>\n",
              "</g>\n",
              "\n",
              "<g class=\"displacy-arrow\">\n",
              "    <path class=\"displacy-arc\" id=\"arrow-de227be56743429faca197dad9d05ed3-0-10\" stroke-width=\"2px\" d=\"M1995,264.5 C1995,89.5 2320.0,89.5 2320.0,264.5\" fill=\"none\" stroke=\"currentColor\"/>\n",
              "    <text dy=\"1.25em\" style=\"font-size: 0.8em; letter-spacing: 1px\">\n",
              "        <textPath xlink:href=\"#arrow-de227be56743429faca197dad9d05ed3-0-10\" class=\"displacy-label\" startOffset=\"50%\" side=\"left\" fill=\"currentColor\" text-anchor=\"middle\">det</textPath>\n",
              "    </text>\n",
              "    <path class=\"displacy-arrowhead\" d=\"M1995,266.5 L1987,254.5 2003,254.5\" fill=\"currentColor\"/>\n",
              "</g>\n",
              "\n",
              "<g class=\"displacy-arrow\">\n",
              "    <path class=\"displacy-arc\" id=\"arrow-de227be56743429faca197dad9d05ed3-0-11\" stroke-width=\"2px\" d=\"M2170,264.5 C2170,177.0 2315.0,177.0 2315.0,264.5\" fill=\"none\" stroke=\"currentColor\"/>\n",
              "    <text dy=\"1.25em\" style=\"font-size: 0.8em; letter-spacing: 1px\">\n",
              "        <textPath xlink:href=\"#arrow-de227be56743429faca197dad9d05ed3-0-11\" class=\"displacy-label\" startOffset=\"50%\" side=\"left\" fill=\"currentColor\" text-anchor=\"middle\">compound</textPath>\n",
              "    </text>\n",
              "    <path class=\"displacy-arrowhead\" d=\"M2170,266.5 L2162,254.5 2178,254.5\" fill=\"currentColor\"/>\n",
              "</g>\n",
              "\n",
              "<g class=\"displacy-arrow\">\n",
              "    <path class=\"displacy-arc\" id=\"arrow-de227be56743429faca197dad9d05ed3-0-12\" stroke-width=\"2px\" d=\"M245,264.5 C245,2.0 2325.0,2.0 2325.0,264.5\" fill=\"none\" stroke=\"currentColor\"/>\n",
              "    <text dy=\"1.25em\" style=\"font-size: 0.8em; letter-spacing: 1px\">\n",
              "        <textPath xlink:href=\"#arrow-de227be56743429faca197dad9d05ed3-0-12\" class=\"displacy-label\" startOffset=\"50%\" side=\"left\" fill=\"currentColor\" text-anchor=\"middle\">attr</textPath>\n",
              "    </text>\n",
              "    <path class=\"displacy-arrowhead\" d=\"M2325.0,266.5 L2333.0,254.5 2317.0,254.5\" fill=\"currentColor\"/>\n",
              "</g>\n",
              "</svg></span>"
            ],
            "text/plain": [
              "<IPython.core.display.HTML object>"
            ]
          },
          "metadata": {},
          "output_type": "display_data"
        }
      ],
      "source": [
        "from spacy import displacy\n",
        "\n",
        "doc2 = nlp(\"London is the capital and most populous city of England and the United Kingdom\")\n",
        "displacy.render(doc2, jupyter=True, style=\"dep\")"
      ]
    },
    {
      "cell_type": "markdown",
      "metadata": {
        "id": "BhcKxFvisxNj"
      },
      "source": [
        "## Entidades en texto"
      ]
    },
    {
      "cell_type": "code",
      "execution_count": 6,
      "metadata": {
        "colab": {
          "base_uri": "https://localhost:8080/"
        },
        "id": "GoUNKXsSsxXy",
        "outputId": "522e7782-4aa7-45e1-ddcc-d1fdd9f6ff72"
      },
      "outputs": [
        {
          "name": "stdout",
          "output_type": "stream",
          "text": [
            "London GPE\n",
            "England GPE\n",
            "the United Kingdom GPE\n",
            "the River Thames LOC\n",
            "south east LOC\n",
            "Great Britain GPE\n",
            "London GPE\n",
            "two millennia DATE\n",
            "Romans NORP\n",
            "Londinium GPE\n"
          ]
        }
      ],
      "source": [
        "for entity in doc.ents:\n",
        "  print(entity.text, entity.label_)"
      ]
    },
    {
      "cell_type": "code",
      "execution_count": 7,
      "metadata": {
        "colab": {
          "base_uri": "https://localhost:8080/",
          "height": 35
        },
        "id": "8o01ox8YylRj",
        "outputId": "ae38b8fb-6575-4009-96af-80fdb9ab0550"
      },
      "outputs": [
        {
          "data": {
            "text/plain": [
              "'Nationalities or religious or political groups'"
            ]
          },
          "execution_count": 7,
          "metadata": {},
          "output_type": "execute_result"
        }
      ],
      "source": [
        "# Doubts with labels\n",
        "spacy.explain('NORP')"
      ]
    },
    {
      "cell_type": "code",
      "execution_count": 8,
      "metadata": {
        "colab": {
          "base_uri": "https://localhost:8080/",
          "height": 191
        },
        "id": "UwfOcDgCtEue",
        "outputId": "eadd1e47-cebe-453a-808a-35d2904aec5b"
      },
      "outputs": [
        {
          "data": {
            "text/html": [
              "<span class=\"tex2jax_ignore\"><div class=\"entities\" style=\"line-height: 2.5; direction: ltr\"><br>\n",
              "<mark class=\"entity\" style=\"background: #feca74; padding: 0.45em 0.6em; margin: 0 0.25em; line-height: 1; border-radius: 0.35em;\">\n",
              "    London\n",
              "    <span style=\"font-size: 0.8em; font-weight: bold; line-height: 1; border-radius: 0.35em; vertical-align: middle; margin-left: 0.5rem\">GPE</span>\n",
              "</mark>\n",
              " is the capital and most populous city of \n",
              "<mark class=\"entity\" style=\"background: #feca74; padding: 0.45em 0.6em; margin: 0 0.25em; line-height: 1; border-radius: 0.35em;\">\n",
              "    England\n",
              "    <span style=\"font-size: 0.8em; font-weight: bold; line-height: 1; border-radius: 0.35em; vertical-align: middle; margin-left: 0.5rem\">GPE</span>\n",
              "</mark>\n",
              " and <br>\n",
              "<mark class=\"entity\" style=\"background: #feca74; padding: 0.45em 0.6em; margin: 0 0.25em; line-height: 1; border-radius: 0.35em;\">\n",
              "    the United Kingdom\n",
              "    <span style=\"font-size: 0.8em; font-weight: bold; line-height: 1; border-radius: 0.35em; vertical-align: middle; margin-left: 0.5rem\">GPE</span>\n",
              "</mark>\n",
              ".  Standing on \n",
              "<mark class=\"entity\" style=\"background: #ff9561; padding: 0.45em 0.6em; margin: 0 0.25em; line-height: 1; border-radius: 0.35em;\">\n",
              "    the River Thames\n",
              "    <span style=\"font-size: 0.8em; font-weight: bold; line-height: 1; border-radius: 0.35em; vertical-align: middle; margin-left: 0.5rem\">LOC</span>\n",
              "</mark>\n",
              " in the \n",
              "<mark class=\"entity\" style=\"background: #ff9561; padding: 0.45em 0.6em; margin: 0 0.25em; line-height: 1; border-radius: 0.35em;\">\n",
              "    south east\n",
              "    <span style=\"font-size: 0.8em; font-weight: bold; line-height: 1; border-radius: 0.35em; vertical-align: middle; margin-left: 0.5rem\">LOC</span>\n",
              "</mark>\n",
              " <br>of the island of \n",
              "<mark class=\"entity\" style=\"background: #feca74; padding: 0.45em 0.6em; margin: 0 0.25em; line-height: 1; border-radius: 0.35em;\">\n",
              "    Great Britain\n",
              "    <span style=\"font-size: 0.8em; font-weight: bold; line-height: 1; border-radius: 0.35em; vertical-align: middle; margin-left: 0.5rem\">GPE</span>\n",
              "</mark>\n",
              ", \n",
              "<mark class=\"entity\" style=\"background: #feca74; padding: 0.45em 0.6em; margin: 0 0.25em; line-height: 1; border-radius: 0.35em;\">\n",
              "    London\n",
              "    <span style=\"font-size: 0.8em; font-weight: bold; line-height: 1; border-radius: 0.35em; vertical-align: middle; margin-left: 0.5rem\">GPE</span>\n",
              "</mark>\n",
              " has been a major settlement <br>for \n",
              "<mark class=\"entity\" style=\"background: #bfe1d9; padding: 0.45em 0.6em; margin: 0 0.25em; line-height: 1; border-radius: 0.35em;\">\n",
              "    two millennia\n",
              "    <span style=\"font-size: 0.8em; font-weight: bold; line-height: 1; border-radius: 0.35em; vertical-align: middle; margin-left: 0.5rem\">DATE</span>\n",
              "</mark>\n",
              ". It was founded by the \n",
              "<mark class=\"entity\" style=\"background: #c887fb; padding: 0.45em 0.6em; margin: 0 0.25em; line-height: 1; border-radius: 0.35em;\">\n",
              "    Romans\n",
              "    <span style=\"font-size: 0.8em; font-weight: bold; line-height: 1; border-radius: 0.35em; vertical-align: middle; margin-left: 0.5rem\">NORP</span>\n",
              "</mark>\n",
              ", who named it \n",
              "<mark class=\"entity\" style=\"background: #feca74; padding: 0.45em 0.6em; margin: 0 0.25em; line-height: 1; border-radius: 0.35em;\">\n",
              "    Londinium\n",
              "    <span style=\"font-size: 0.8em; font-weight: bold; line-height: 1; border-radius: 0.35em; vertical-align: middle; margin-left: 0.5rem\">GPE</span>\n",
              "</mark>\n",
              ".<br></div></span>"
            ],
            "text/plain": [
              "<IPython.core.display.HTML object>"
            ]
          },
          "metadata": {},
          "output_type": "display_data"
        }
      ],
      "source": [
        "displacy.render(doc, style='ent', jupyter=True)"
      ]
    },
    {
      "cell_type": "markdown",
      "metadata": {
        "id": "k4J_qGHusl9H"
      },
      "source": [
        "## Sustitución de nombres\n",
        "Ocultar nombres para GDPR"
      ]
    },
    {
      "cell_type": "code",
      "execution_count": 9,
      "metadata": {
        "colab": {
          "base_uri": "https://localhost:8080/"
        },
        "id": "8zHtOLvSsmEp",
        "outputId": "99bd35f8-5eff-4622-f119-5b8bd6426e0f"
      },
      "outputs": [
        {
          "name": "stdout",
          "output_type": "stream",
          "text": [
            "\n",
            " In 1950 , GDPR published his famous article \" Computing Machinery and Intelligence \" . In 1957 , GDPR ’s \n",
            " Syntactic Structures revolutionized Linguistics with ' universal grammar ' , a rule based system of syntactic structures . \n",
            "\n"
          ]
        }
      ],
      "source": [
        "# Replace a token with \"REDACTED\" if it is a name\n",
        "def replace_name_with_placeholder(token):\n",
        "    if token.ent_iob != 0 and token.ent_type_ == \"PERSON\":\n",
        "        return \"GDPR\"\n",
        "    else:\n",
        "        return token.text\n",
        "\n",
        "# Loop through all the entities in a document and check if they are names\n",
        "def scrub(text):\n",
        "    doc = nlp(text)\n",
        "    with doc.retokenize() as retokenizer:\n",
        "        for ent in doc.ents:\n",
        "            retokenizer.merge(ent)\n",
        "    tokens = map(replace_name_with_placeholder, doc)\n",
        "    return \" \".join(tokens)\n",
        "\n",
        "s = \"\"\"\n",
        "In 1950, Alan Turing published his famous article \"Computing Machinery and Intelligence\". In 1957, Noam Chomsky’s \n",
        "Syntactic Structures revolutionized Linguistics with 'universal grammar', a rule based system of syntactic structures.\n",
        "\"\"\"\n",
        "\n",
        "print(scrub(s))"
      ]
    },
    {
      "cell_type": "markdown",
      "metadata": {
        "id": "oGvpaIAqzwOH"
      },
      "source": [
        "## Lematize"
      ]
    },
    {
      "cell_type": "code",
      "execution_count": 10,
      "metadata": {
        "colab": {
          "base_uri": "https://localhost:8080/"
        },
        "id": "iKra7djBzwXj",
        "outputId": "a1e019b7-3aad-40d1-e5b2-a4203c49f250"
      },
      "outputs": [
        {
          "name": "stdout",
          "output_type": "stream",
          "text": [
            "\n",
            " \n",
            " SPACE\n",
            "London London PROPN\n",
            "is be AUX\n",
            "the the DET\n",
            "capital capital NOUN\n",
            "and and CCONJ\n",
            "most most ADV\n",
            "populous populous ADJ\n",
            "city city NOUN\n",
            "of of ADP\n",
            "England England PROPN\n",
            "and and CCONJ\n",
            "\n",
            " \n",
            " SPACE\n",
            "the the DET\n",
            "United United PROPN\n",
            "Kingdom Kingdom PROPN\n",
            ". . PUNCT\n",
            "    SPACE\n",
            "Standing stand VERB\n",
            "on on ADP\n",
            "the the DET\n",
            "River River PROPN\n",
            "Thames Thames PROPN\n",
            "in in ADP\n",
            "the the DET\n",
            "south south PROPN\n",
            "east east PROPN\n",
            "\n",
            " \n",
            " SPACE\n",
            "of of ADP\n",
            "the the DET\n",
            "island island NOUN\n",
            "of of ADP\n",
            "Great Great PROPN\n",
            "Britain Britain PROPN\n",
            ", , PUNCT\n",
            "London London PROPN\n",
            "has have AUX\n",
            "been be AUX\n",
            "a a DET\n",
            "major major ADJ\n",
            "settlement settlement NOUN\n",
            "\n",
            " \n",
            " SPACE\n",
            "for for ADP\n",
            "two two NUM\n",
            "millennia millennium NOUN\n",
            ". . PUNCT\n",
            "It it PRON\n",
            "was be AUX\n",
            "founded found VERB\n",
            "by by ADP\n",
            "the the DET\n",
            "Romans Romans PROPN\n",
            ", , PUNCT\n",
            "who who PRON\n",
            "named name VERB\n",
            "it it PRON\n",
            "Londinium Londinium PROPN\n",
            ". . PUNCT\n",
            "\n",
            " \n",
            " SPACE\n"
          ]
        }
      ],
      "source": [
        "for w in doc:\n",
        "  print(w.text, w.lemma_, w.pos_)"
      ]
    },
    {
      "cell_type": "markdown",
      "metadata": {
        "id": "o_e1pnbgz_0X"
      },
      "source": [
        "## Stopwords"
      ]
    },
    {
      "cell_type": "code",
      "execution_count": 11,
      "metadata": {
        "colab": {
          "base_uri": "https://localhost:8080/"
        },
        "id": "j_M6OKU3z__q",
        "outputId": "701e21b9-d50e-4903-ca0e-c73746e56180"
      },
      "outputs": [
        {
          "name": "stdout",
          "output_type": "stream",
          "text": [
            "['thereafter', 'could', 'them', 'few', 'any', 'also', 'through', 'herself', 'those', 'such', 'either', 'various', 'whether', 'full', 'besides', 'is', \"'ve\", 'onto', 'yourselves', 'due', 'ever', 'us', 'what', 'former', 'seem', 'twelve', 'neither', 'more', 'too', 'afterwards', '‘re', 'here', 'name', 'part', 'some', 'over', 'a', 'much', 'since']\n"
          ]
        }
      ],
      "source": [
        "from spacy.lang.en.stop_words import STOP_WORDS\n",
        "\n",
        "print(list(STOP_WORDS)[:39])"
      ]
    },
    {
      "cell_type": "code",
      "execution_count": 12,
      "metadata": {
        "colab": {
          "base_uri": "https://localhost:8080/"
        },
        "id": "RXNvYLeD0QJ0",
        "outputId": "48725150-7661-4395-a27c-2a4782b52da4"
      },
      "outputs": [
        {
          "name": "stdout",
          "output_type": "stream",
          "text": [
            "[\n",
            ", London, capital, populous, city, England, \n",
            ", United, Kingdom,  , Standing, River, Thames, south, east, \n",
            ", island, Great, Britain, London, major, settlement, \n",
            ", millennia, founded, Romans, named, Londinium, \n",
            "]\n"
          ]
        }
      ],
      "source": [
        "lista_clean = [palabra for palabra in doc if not palabra.is_stop and not palabra.is_punct]\n",
        "print(lista_clean)"
      ]
    },
    {
      "cell_type": "markdown",
      "metadata": {
        "id": "_3oBFA3XacUf"
      },
      "source": [
        "# Español\n",
        "#Español y entidades"
      ]
    },
    {
      "cell_type": "code",
      "execution_count": 13,
      "metadata": {
        "colab": {
          "base_uri": "https://localhost:8080/"
        },
        "id": "WyDUzV-eax_7",
        "outputId": "e4575ab9-ce92-4d3c-a20d-a4b297eab994"
      },
      "outputs": [
        {
          "name": "stdout",
          "output_type": "stream",
          "text": [
            "Londres (LOC)\n",
            "London (LOC)\n",
            "Inglaterra (LOC)\n",
            "Reino Unido.2​3​ Situada (LOC)\n",
            "Támesis (LOC)\n",
            "Londres (LOC)\n",
            "Londinium (LOC)\n",
            "City de Londres (LOC)\n",
            "Londres (LOC)\n",
            "Londres (LOC)\n",
            "Gran Londres,6​ (LOC)\n",
            "Londres (LOC)\n",
            "mundo9​10​11​ (LOC)\n",
            "Londres (LOC)\n",
            "Londres (LOC)\n",
            "Juegos Olímpicos de Verano.21​\n",
            "En esta ciudad multirracial (MISC)\n",
            "La Autoridad del Gran Londres (MISC)\n",
            "Reino Unido.24​ El área urbana del (LOC)\n",
            "Gran Londres (LOC)\n",
            "Europa (LOC)\n",
            "millones,26​27​ (PER)\n",
            "Londres (LOC)\n",
            "Imperio británico (LOC)\n"
          ]
        }
      ],
      "source": [
        "nlp_es = spacy.load('es_core_news_lg')\n",
        "\n",
        "text = '''Londres (en inglés, London, pronunciado /ˈlʌndən/ ( escuchar)) es la capital y mayor ciudad de Inglaterra y del Reino Unido.2​3​ Situada a orillas del río Támesis, Londres es un importante asentamiento humano desde que fue fundada por los romanos con el nombre de Londinium hace casi dos milenios.4​ El núcleo antiguo de la urbe, la City de Londres, conserva básicamente su perímetro medieval de una milla cuadrada. Desde el siglo XIX el nombre «Londres» también hace referencia a toda la metrópolis desarrollada alrededor de este núcleo.5​ El grueso de esta conurbación forma la región de Londres y el área administrativa del Gran Londres,6​ gobernado por el alcalde y la asamblea de Londres.7​\n",
        "Londres es una ciudad global, uno de los centros neurálgicos en el ámbito de las artes, el comercio, la educación, el entretenimiento, la moda, las finanzas, los medios de comunicación, la investigación, el turismo o el transporte.8​ Es el principal centro financiero del mundo9​10​11​ y una de las áreas metropolitanas con mayor PIB.12​13​ Londres es también una capital cultural mundial,14​15​16​17​ la ciudad más visitada considerando el número de visitas internacionales18​ y tiene el mayor sistema aeroportuario del mundo según el tráfico de pasajeros.19​ Asimismo, las 43 universidades de la ciudad conforman la mayor concentración de centros de estudios superiores de toda Europa.20​ En el año 2012 Londres se convirtió en la única ciudad en albergar la celebración de tres Juegos Olímpicos de Verano.21​\n",
        "En esta ciudad multirracial convive gente de un gran número de culturas que hablan más de trescientos idiomas distintos.22​ La Autoridad del Gran Londres estima que en 2015 la ciudad tiene 8,63 millones de habitantes,23​ que supone el 12,5 % del total de habitantes del Reino Unido.24​ El área urbana del Gran Londres, con 10 470 00025​ habitantes, es la segunda más grande de Europa, pero su área metropolitana, con una población estimada de entre 12 y 14 millones,26​27​ es la mayor del continente. Desde 1831 a 1925 Londres, como capital del Imperio británico, fue la ciudad más poblada del mundo.'''\n",
        "doc = nlp_es(text)\n",
        "\n",
        "# Para ver las entidades que ha detectado\n",
        "for entity in doc.ents:\n",
        "    print(f\"{entity.text} ({entity.label_})\")\n"
      ]
    },
    {
      "cell_type": "code",
      "execution_count": 14,
      "metadata": {},
      "outputs": [
        {
          "data": {
            "text/plain": [
              "'Miscellaneous entities, e.g. events, nationalities, products or works of art'"
            ]
          },
          "execution_count": 14,
          "metadata": {},
          "output_type": "execute_result"
        }
      ],
      "source": [
        "# Doubts with labels\n",
        "spacy.explain('MISC')"
      ]
    },
    {
      "cell_type": "markdown",
      "metadata": {
        "id": "5GwuAvRS1TLb"
      },
      "source": [
        "## Palabras más frecuentes\n",
        "En una página de Wikipedia"
      ]
    },
    {
      "cell_type": "code",
      "execution_count": 15,
      "metadata": {},
      "outputs": [
        {
          "name": "stdout",
          "output_type": "stream",
          "text": [
            "Collecting wikipedia\n",
            "  Downloading wikipedia-1.4.0.tar.gz (27 kB)\n",
            "  Preparing metadata (setup.py) ... \u001b[?25ldone\n",
            "\u001b[?25hRequirement already satisfied: beautifulsoup4 in /Users/hectormoya/Documents/GitHub/DS_PT_09_2023/.venv/lib/python3.11/site-packages (from wikipedia) (4.12.3)\n",
            "Requirement already satisfied: requests<3.0.0,>=2.0.0 in /Users/hectormoya/Documents/GitHub/DS_PT_09_2023/.venv/lib/python3.11/site-packages (from wikipedia) (2.31.0)\n",
            "Requirement already satisfied: charset-normalizer<4,>=2 in /Users/hectormoya/Documents/GitHub/DS_PT_09_2023/.venv/lib/python3.11/site-packages (from requests<3.0.0,>=2.0.0->wikipedia) (3.3.2)\n",
            "Requirement already satisfied: idna<4,>=2.5 in /Users/hectormoya/Documents/GitHub/DS_PT_09_2023/.venv/lib/python3.11/site-packages (from requests<3.0.0,>=2.0.0->wikipedia) (3.6)\n",
            "Requirement already satisfied: urllib3<3,>=1.21.1 in /Users/hectormoya/Documents/GitHub/DS_PT_09_2023/.venv/lib/python3.11/site-packages (from requests<3.0.0,>=2.0.0->wikipedia) (2.2.0)\n",
            "Requirement already satisfied: certifi>=2017.4.17 in /Users/hectormoya/Documents/GitHub/DS_PT_09_2023/.venv/lib/python3.11/site-packages (from requests<3.0.0,>=2.0.0->wikipedia) (2024.2.2)\n",
            "Requirement already satisfied: soupsieve>1.2 in /Users/hectormoya/Documents/GitHub/DS_PT_09_2023/.venv/lib/python3.11/site-packages (from beautifulsoup4->wikipedia) (2.5)\n",
            "Building wheels for collected packages: wikipedia\n",
            "  Building wheel for wikipedia (setup.py) ... \u001b[?25ldone\n",
            "\u001b[?25h  Created wheel for wikipedia: filename=wikipedia-1.4.0-py3-none-any.whl size=11678 sha256=4ab55fab105041857aa637963d2f7468aa4cfc98f2d6afc588c7658f364d5e03\n",
            "  Stored in directory: /Users/hectormoya/Library/Caches/pip/wheels/8f/ab/cb/45ccc40522d3a1c41e1d2ad53b8f33a62f394011ec38cd71c6\n",
            "Successfully built wikipedia\n",
            "Installing collected packages: wikipedia\n",
            "Successfully installed wikipedia-1.4.0\n"
          ]
        }
      ],
      "source": [
        "!pip install wikipedia"
      ]
    },
    {
      "cell_type": "code",
      "execution_count": 30,
      "metadata": {
        "colab": {
          "base_uri": "https://localhost:8080/",
          "height": 174
        },
        "id": "zmuqxci01TTh",
        "outputId": "8f5d5796-9ab8-4b8b-d89c-2c6f17e89442"
      },
      "outputs": [
        {
          "data": {
            "text/plain": [
              "\"Karim Mostafa Benzema (born 19 December 1987) is a French professional footballer who plays as a striker for La Liga club Real Madrid and the France national team. A creative and prolific forward known for his playmaking and finishing, he is regarded as one of the best forwards of his generation.Born in Lyon to Algerian parents, Benzema began his senior career with hometown club Olympique Lyonnais in 2005, contributing sporadically to three Ligue 1 title wins. In 2008, he was named National Union of Professional Footballers (UNFP) Player of the Year and in the Team of the Year as he finished as the league's top goalscorer and won his fourth title and first Coupe de France. In 2009, Benzema was the subject of a then French record association football transfer when signed for Real Madrid in a transfer worth €35 million.\\nAfter struggling to establish himself in his debut season, Benzema eventually reached prominence at Real Madrid and has won twenty trophies, including three La Liga title\""
            ]
          },
          "execution_count": 30,
          "metadata": {},
          "output_type": "execute_result"
        }
      ],
      "source": [
        "import wikipedia\n",
        "wikipedia.set_lang(\"en\")\n",
        "pedro = wikipedia.page(title=\"Karim Benzema\")\n",
        "text = pedro.content\n",
        "text[0:1000]"
      ]
    },
    {
      "cell_type": "code",
      "execution_count": 32,
      "metadata": {
        "colab": {
          "base_uri": "https://localhost:8080/"
        },
        "id": "w8s0R3vU3NAZ",
        "outputId": "3c71df2d-5abe-488f-fb50-fbe8b242e97a"
      },
      "outputs": [
        {
          "data": {
            "text/plain": [
              "['French',\n",
              " 'professional',\n",
              " 'national',\n",
              " 'creative',\n",
              " 'prolific',\n",
              " 'best',\n",
              " 'Algerian',\n",
              " 'senior',\n",
              " 'fourth',\n",
              " 'French']"
            ]
          },
          "execution_count": 32,
          "metadata": {},
          "output_type": "execute_result"
        }
      ],
      "source": [
        "nombres = [w.text for w in nlp(text) if not w.is_stop and not w.is_punct and w.pos_ == 'ADJ']\n",
        "nombres[:10]"
      ]
    },
    {
      "cell_type": "code",
      "execution_count": 33,
      "metadata": {
        "colab": {
          "base_uri": "https://localhost:8080/"
        },
        "id": "C0D-pRly22_H",
        "outputId": "5bc9c178-6438-40ac-b2a6-ece714865a69"
      },
      "outputs": [
        {
          "data": {
            "text/plain": [
              "[('second', 37),\n",
              " ('final', 30),\n",
              " ('national', 17),\n",
              " ('new', 16),\n",
              " ('consecutive', 13),\n",
              " ('international', 11),\n",
              " ('senior', 10),\n",
              " ('friendly', 10),\n",
              " ('professional', 8)]"
            ]
          },
          "execution_count": 33,
          "metadata": {},
          "output_type": "execute_result"
        }
      ],
      "source": [
        "from collections import Counter\n",
        "word_freq = Counter(nombres)\n",
        "\n",
        "word_freq.most_common(10)[1:]"
      ]
    },
    {
      "cell_type": "markdown",
      "metadata": {
        "id": "xWDuikM7VJtc"
      },
      "source": [
        "## Texto Textacy Londres\n",
        "No queremos saber cosas sobre Londres, de nuestro texto anterior"
      ]
    },
    {
      "cell_type": "code",
      "execution_count": 36,
      "metadata": {
        "colab": {
          "base_uri": "https://localhost:8080/"
        },
        "id": "qOiN7HAmvNV2",
        "outputId": "cc8d904b-3cc0-4588-f6d5-95ce6ad6fe7a"
      },
      "outputs": [
        {
          "name": "stdout",
          "output_type": "stream",
          "text": [
            "Here are the things I know about London:\n",
            " - [the, capital, and, most, populous, city, of, England, and, the, United, Kingdom]\n",
            " - [a, major, settlement, for, two, millennia]\n",
            " - [a, huge, city]\n"
          ]
        }
      ],
      "source": [
        "import spacy\n",
        "import textacy.extract\n",
        "\n",
        "#### CODE ####\n",
        "\n",
        "# The text we want to examine\n",
        "text = \"\"\"London is the capital and most populous city of England and the United Kingdom. Standing on the River Thames in the south east of the island of Great Britain, London has been a major settlement for two millennia. London was founded by the Romans, \n",
        "who named it Londinium. London is a huge city. London has a lot of cute restaurants.\n",
        "\"\"\"\n",
        "\n",
        "doc = nlp(text)\n",
        "statements = textacy.extract.semistructured_statements(doc, entity=\"London\", cue='be')\n",
        "\n",
        "# Print the results\n",
        "print(\"Here are the things I know about London:\")\n",
        "\n",
        "for statement in statements:\n",
        "    subject, verb, fact = statement\n",
        "    print(f\" - {fact}\")\n"
      ]
    },
    {
      "cell_type": "markdown",
      "metadata": {
        "id": "hFwnqZzIaSNQ"
      },
      "source": [
        "## Textacy con Wikipedia API\n",
        "No queremos las palabras más frecuentes, queremos frases sobre Londres"
      ]
    },
    {
      "cell_type": "code",
      "execution_count": 37,
      "metadata": {
        "id": "za6v7SL_2Ywo"
      },
      "outputs": [],
      "source": [
        "wikipedia.set_lang(\"en\")\n",
        "london = wikipedia.page(\"London\")\n",
        "text = london.content"
      ]
    },
    {
      "cell_type": "code",
      "execution_count": 38,
      "metadata": {
        "colab": {
          "base_uri": "https://localhost:8080/"
        },
        "id": "NwOqJO902pO6",
        "outputId": "9d856c03-1993-4c18-976a-39a58d7680a3"
      },
      "outputs": [
        {
          "name": "stdout",
          "output_type": "stream",
          "text": [
            "Here are the things I know about London:\n",
            " - [the, capital, and, largest, city, of, England, and, the, United, Kingdom, with, a, total, population, of, 9,002,488]\n",
            " - [an, ancient, name, ,, already, attested, in, the, first, century, AD, ,, usually, in, the, Latinised, form, Londinium]\n",
            " - [the, largest, town, in, England]\n",
            " - [the, focus, of, the, Peasants, ', Revolt, in, 1381.London]\n",
            " - [the, world, 's, largest, city]\n",
            " - [the, seat, of, the, Government, of, the, United, Kingdom]\n",
            " - [one, of, nine, regions, of, England, and, the, top, subdivision, covering, most, of, the, city, 's, metropolis]\n",
            " - [one, of, the, World, 's, Greenest, Cities, \", with, more, than, 40, per, cent, green, space, or, open, water]\n",
            " - [the, second, most, populous, metropolitan, area, in, Europe]\n",
            " - [the, 19th, largest, city, and, the, 18th, largest, metropolitan, region]\n",
            " - [the, world, 's, most, expensive, office, market]\n",
            " - [one, of, the, pre, -, eminent, financial, centres, of, the, world, as, the, most, important, location, for, international, finance]\n",
            " - [a, major, retail, centre]\n",
            " - [one, of, the, leading, tourist, destinations, in, the, world]\n",
            " - [the, world, top, city, destination]\n",
            " - [a, major, international, air, transport, hub, with, the, busiest, city, airspace, in, the, world]\n",
            " - [the, centre, of, the, National, Rail, network]\n",
            " - [a, major, global, centre, of, higher, education, teaching, and, research]\n",
            " - [home, to, five, major, medical, schools, –, Barts, and, The, London, School, of, Medicine, and, Dentistry, (, part, of, Queen, Mary, )]\n",
            " - [home, to, designers, Vivienne, Westwood, ,, Galliano, ,, Stella, McCartney, ,, Manolo, Blahnik, ,, and, Jimmy, Choo, ,, among, others, ;]\n",
            " - [the, setting, for, many, works, of, literature]\n",
            " - [the, setting, for, films, including, Oliver, Twist, (, 1948, ), ,, Scrooge, (, 1951, )]\n",
            " - [a, major, centre, for, television, production]\n",
            " - [home, to, many, museums, ,, galleries, ,, and, other, institutions, ,, many, of, which, are, free, of, admission, charges, and, are, major, tourist, attractions, as, well, as, playing, a, research, role]\n",
            " - [one, of, the, major, classical, and, popular, music, capitals, of, the, world]\n",
            " - [a, centre, for, urban, music]\n",
            " - [the, \", greenest, city, \", in, Europe, with, 14,164, hectares, (, 35,000, acres, ), of, public, parks, ,, woodlands, and, gardens]\n"
          ]
        }
      ],
      "source": [
        "doc = nlp(text)\n",
        "\n",
        "# Extract semi-structured statements\n",
        "statements = textacy.extract.semistructured_statements(doc, entity=\"London\", cue='be')\n",
        "\n",
        "# Print the results\n",
        "print(\"Here are the things I know about London:\")\n",
        "\n",
        "for statement in statements:\n",
        "    subject, verb, fact = statement\n",
        "    print(f\" - {fact}\")"
      ]
    },
    {
      "cell_type": "code",
      "execution_count": null,
      "metadata": {},
      "outputs": [],
      "source": []
    }
  ],
  "metadata": {
    "colab": {
      "collapsed_sections": [],
      "name": "Textacy_y_spacy.ipynb",
      "provenance": []
    },
    "kernelspec": {
      "display_name": "Python 3",
      "language": "python",
      "name": "python3"
    },
    "language_info": {
      "codemirror_mode": {
        "name": "ipython",
        "version": 3
      },
      "file_extension": ".py",
      "mimetype": "text/x-python",
      "name": "python",
      "nbconvert_exporter": "python",
      "pygments_lexer": "ipython3",
      "version": "3.11.5"
    }
  },
  "nbformat": 4,
  "nbformat_minor": 0
}
